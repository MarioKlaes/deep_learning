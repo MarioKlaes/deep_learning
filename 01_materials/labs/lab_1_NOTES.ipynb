{
 "cells": [
  {
   "cell_type": "markdown",
   "metadata": {},
   "source": [
    "# Training Neural Networks with Keras\n",
    "\n",
    "Welcome to the first practical session of the course! In this session, we will learn how to train neural networks with Keras. We will start with a simple example of a feedforward neural network for classification and then we will study the impact of the initialization of the weights on the convergence of the training algorithm.\n",
    "\n",
    "Keras is a high-level neural network API, built on top of TensorFlow 2.0. It provides a user-friendly interface to build, train and deploy deep learning models. Keras is designed to be modular, fast and easy to use.\n",
    "\n",
    "Throughout this course, we will focus on using Keras and TensorFlow for building and training neural networks. However, there are other popular deep learning frameworks such as PyTorch, MXNet, CNTK, etc. that you can also use to build and train neural networks.\n",
    "\n",
    "In order to use our code on Google Colab, we will need to ensure that any required packages are installed. We will use the following packages in this session:\n",
    "\n",
    "- `tensorflow`: an open-source library for numerical computation and large-scale machine learning.\n",
    "- `matplotlib`: a plotting library for the Python programming language and its numerical mathematics extension NumPy.\n",
    "- `numpy`: a library for scientific computing in Python.\n",
    "- `scikit-learn`: a machine learning library for the Python programming language.\n",
    "- `pandas`: a library providing high-performance, easy-to-use data structures and data analysis tools for the Python programming language.\n",
    "\n",
    "The following cell will check if the packages are installed, and if not, it will install them. Students familiar with how pip works might note that it already checks this before installing! The reason for this code (which will also appear in subsequent notebooks) is to speed up execution if you re-run the entire notebook - it will skip the installation step if the packages are already installed."
   ]
  },
  {
   "cell_type": "markdown",
   "metadata": {
    "collapsed": false
   },
   "source": [
    "With the packages installed, we can now get started on the practical session!\n",
    "\n",
    "Today, we will be working with the famous MNIST dataset. MNIST (Modified National Institute of Standards and Technology) is a database of low resolution images of handwritten digits. The history here is interesting - the dataset was originally created in the 1980s, when researchers from the aforementioned institute collected samples from American Census Bureau employees and high school students. The dataset was then modified in the 1990s (hence the M in MNIST), and has since become a popular benchmark for machine learning algorithms. \n",
    "\n",
    "The dataset contains images, each of which is a 28x28 grayscale image of a handwritten digit. The goal is to classify each image into one of the 10 possible classes (0-9).\n",
    "\n",
    "![MNIST](https://upload.wikimedia.org/wikipedia/commons/2/27/MnistExamples.png)\n",
    "\n",
    "The Scikit-Learn library provides a convenient function to download and load the MNIST dataset. The following cell will download the dataset. Then we will take a look at the shape of the data."
   ]
  },
  {
   "cell_type": "code",
   "execution_count": 18,
   "metadata": {},
   "outputs": [],
   "source": [
    "import matplotlib.pyplot as plt\n",
    "import numpy as np\n",
    "\n",
    "from sklearn.datasets import load_digits\n",
    "\n",
    "digits = load_digits()"
   ]
  },
  {
   "cell_type": "code",
   "execution_count": 19,
   "metadata": {},
   "outputs": [
    {
     "data": {
      "text/plain": [
       "(1797, 8, 8)"
      ]
     },
     "execution_count": 19,
     "metadata": {},
     "output_type": "execute_result"
    }
   ],
   "source": [
    "# 1,797 fotos\n",
    "# 8,8 (8 x 8 pixels)\n",
    "\n",
    "digits.images.shape"
   ]
  },
  {
   "cell_type": "markdown",
   "metadata": {
    "collapsed": false
   },
   "source": [
    "This means that we have 1797 images, each of which is a 8x8 image. For basic image processing, we will need to flatten the images into a 1D array. In this case, Scikit-Learn has already provided the data in this format too:"
   ]
  },
  {
   "cell_type": "code",
   "execution_count": 20,
   "metadata": {},
   "outputs": [
    {
     "data": {
      "text/plain": [
       "(1797, 64)"
      ]
     },
     "execution_count": 20,
     "metadata": {},
     "output_type": "execute_result"
    }
   ],
   "source": [
    "digits.data.shape"
   ]
  },
  {
   "cell_type": "markdown",
   "metadata": {
    "collapsed": false
   },
   "source": [
    "For each image, we also have the corresponding label (or target, or class) in `digits.target`:"
   ]
  },
  {
   "cell_type": "code",
   "execution_count": 21,
   "metadata": {},
   "outputs": [
    {
     "data": {
      "text/plain": [
       "(1797,)"
      ]
     },
     "execution_count": 21,
     "metadata": {},
     "output_type": "execute_result"
    }
   ],
   "source": [
    "digits.target.shape"
   ]
  },
  {
   "cell_type": "markdown",
   "metadata": {
    "collapsed": false
   },
   "source": [
    "We can take a look at some random images from the dataset. The following cell will select 9 random images and plot them in a 3x3 grid (meaning that you can rerun the cell to see different images)."
   ]
  },
  {
   "cell_type": "code",
   "execution_count": 22,
   "metadata": {},
   "outputs": [
    {
     "data": {
      "image/png": "[encoded data removed]",
      "text/plain": [
       "<Figure size 600x600 with 9 Axes>"
      ]
     },
     "metadata": {},
     "output_type": "display_data"
    }
   ],
   "source": [
    "# Selecting 9 random indices\n",
    "random_indices = np.random.choice(len(digits.images), 9, replace=False)\n",
    "\n",
    "# Creating a 3x3 grid plot\n",
    "fig, axes = plt.subplots(3, 3, figsize=(6, 6))\n",
    "\n",
    "for i, ax in enumerate(axes.flat):\n",
    "    ax.imshow(digits.images[random_indices[i]], cmap=plt.cm.gray_r, interpolation='nearest')\n",
    "    ax.set_title(f\"Label: {digits.target[random_indices[i]]}\")\n",
    "\n",
    "    # Removing axis labels\n",
    "    ax.set_xticks([])\n",
    "    ax.set_yticks([])\n",
    "\n",
    "plt.show()"
   ]
  },
  {
   "cell_type": "markdown",
   "metadata": {
    "collapsed": false
   },
   "source": [
    "As you can see, these images are very low resolution. This is because they were originally scanned from paper forms, and then scaled down to 8x8 pixels. This is a common problem in machine learning - the quality of the data is often a limiting factor in the performance of the model. In this case, the low resolution of the images makes it difficult to distinguish between some digits, even for humans. For example, the following images are all labelled as 9, but they look very different:"
   ]
  },
  {
   "cell_type": "code",
   "execution_count": 23,
   "metadata": {
    "collapsed": false
   },
   "outputs": [
    {
     "data": {
      "image/png": "[encoded data removed]",
      "text/plain": [
       "<Figure size 600x600 with 9 Axes>"
      ]
     },
     "metadata": {},
     "output_type": "display_data"
    }
   ],
   "source": [
    "# Selecting 9 random indices of images labelled as 9\n",
    "random_indices = np.random.choice(np.where(digits.target == 9)[0], 9, replace=False)\n",
    "\n",
    "# Creating a 3x3 grid plot\n",
    "fig, axes = plt.subplots(3, 3, figsize=(6, 6))\n",
    "\n",
    "for i, ax in enumerate(axes.flat):\n",
    "    ax.imshow(digits.images[random_indices[i]], cmap=plt.cm.gray_r, interpolation='nearest')\n",
    "    ax.set_title(f\"Label: {digits.target[random_indices[i]]}\")\n",
    "\n",
    "    # Removing axis labels\n",
    "    ax.set_xticks([])\n",
    "    ax.set_yticks([])\n",
    "    \n",
    "plt.show()"
   ]
  },
  {
   "cell_type": "markdown",
   "metadata": {
    "collapsed": false
   },
   "source": [
    "While we are plotting the samples as images, remember that our model is only going to see a 1D array of numbers. "
   ]
  },
  {
   "cell_type": "markdown",
   "metadata": {},
   "source": [
    "## Train / Test Split\n",
    "\n",
    "In order to understand how well our model performs on _new_ data, we need to split our dataset into a training set and a test set. The training set will be used to train the model, and the test set will be used to evaluate the performance of the model.\n",
    "\n",
    "Let's keep some held-out data to be able to measure the generalization performance of our model. "
   ]
  },
  {
   "cell_type": "code",
   "execution_count": 24,
   "metadata": {},
   "outputs": [],
   "source": [
    "from sklearn.model_selection import train_test_split\n",
    "\n",
    "\n",
    "X_train, X_test, y_train, y_test = train_test_split(\n",
    "    digits.data, \n",
    "    digits.target,\n",
    "    test_size=0.2, # 20% of the data is used for testing\n",
    "    random_state=42 # Providing a value here means getting the same \"random\" split every time\n",
    ")"
   ]
  },
  {
   "cell_type": "markdown",
   "metadata": {
    "collapsed": false
   },
   "source": [
    "Let's confirm that the data has been split correctly:"
   ]
  },
  {
   "cell_type": "code",
   "execution_count": 25,
   "metadata": {
    "collapsed": false
   },
   "outputs": [
    {
     "name": "stdout",
     "output_type": "stream",
     "text": [
      "X_train shape: (1437, 64)\n",
      "y_train shape: (1437,)\n",
      "X_test shape: (360, 64)\n",
      "y_test shape: (360,)\n"
     ]
    }
   ],
   "source": [
    "print(f'X_train shape: {X_train.shape}')\n",
    "print(f'y_train shape: {y_train.shape}')\n",
    "print(f'X_test shape: {X_test.shape}')\n",
    "print(f'y_test shape: {y_test.shape}')"
   ]
  },
  {
   "cell_type": "markdown",
   "metadata": {
    "collapsed": false
   },
   "source": [
    "This is what we expected to see. It's always good to check as you go, to make sure that you haven't made a mistake somewhere - this is something that working in a notebook like this makes it easy to do."
   ]
  },
  {
   "cell_type": "markdown",
   "metadata": {},
   "source": [
    "## Preprocessing of the Target Data\n",
    "\n",
    "The labels that we have are integers between 0 and 9. However, we want to train a neural network to classify the images into one of 10 classes. It can be a little counter-intuitive because we are dealing with numbers, but our classes are not ordinal.\n",
    "\n",
    "What do we mean by that? Let's imagine we were trying to predict the height of a building (separated into classes) from images. If a given building was actually 10m tall, and our model predicted 9m, we would consider that to be a better prediction than if it predicted 1m. This is because the classes are ordinal - there is meaning in the difference between the classes.\n",
    "\n",
    "In our case, even though we are dealing with numbers, the classes are not ordinal. If a given image is actually a 9, and our model predicts 8, we would consider that to be just as bad as if it predicted 1. This is because the classes are not ordered, and the difference between the classes is not meaningful.\n",
    "\n",
    "Because of this, we need to convert our labels from an integer value into a one-hot encoded vector. This means that each label will be represented as a vector of length 10, with a 1 in the position corresponding to the class, and 0s everywhere else. For example, the label 9 would be represented as `[0, 0, 0, 0, 0, 0, 0, 0, 0, 1]`. This is a common way of representing categorical data in machine learning. By doing this, we ensure that our model is taught the correct relationship between the classes."
   ]
  },
  {
   "cell_type": "code",
   "execution_count": 26,
   "metadata": {},
   "outputs": [
    {
     "name": "stdout",
     "output_type": "stream",
     "text": [
      "Before one-hot encoding: 6\n",
      "After one-hot encoding: [0. 0. 0. 0. 0. 0. 1. 0. 0. 0.]\n"
     ]
    }
   ],
   "source": [
    "from tensorflow.keras.utils import to_categorical\n",
    "\n",
    "print(f'Before one-hot encoding: {y_train[0]}')\n",
    "\n",
    "# convert the venctor in a one-hot encoded vector (i.e. 9 -> [0, 0, 0, 0, 0, 0, 0, 0, 0, 1] )\n",
    "y_train = to_categorical(y_train, num_classes=10)\n",
    "y_test = to_categorical(y_test, num_classes=10)\n",
    "\n",
    "print(f'After one-hot encoding: {y_train[0]}')"
   ]
  },
  {
   "cell_type": "markdown",
   "metadata": {},
   "source": [
    "## Feed Forward Neural Networks with Keras\n",
    "\n",
    "Now that we have prepared our data, it's time to build a simple neural network! In this section, we will use the Keras API to build a simple feed forward neural network. We will then train the model on the MNIST dataset, and evaluate its performance on the test set.\n",
    "\n",
    "In most modern deep learning frameworks, the process of building a model can be broken down into a few steps:\n",
    "\n",
    "- Define the model architecture: this is where we define the layers of the model, and how they are connected to each other.\n",
    "- Compile the model: this is where we define the loss function, the optimizer, and the metrics that we want to use to evaluate the model.\n",
    "- Train the model: this is where we train the model on the training data.\n",
    "\n",
    "Let's start with defining the model architecture. There are two ways to do this in Keras - the Sequential API and the Functional API. The Sequential API is the simplest way to build a model, and is suitable for most use cases. The Functional API is more flexible, and allows you to build more complex models. We will start with the Sequential API, and then we will look at the Functional API later in the course.\n",
    "\n",
    "Our simple neural network will be \"fully-connected\". This means that each neuron in a given layer is connected to every neuron in the next layer. This is also known as a \"dense\" layer. We will use the `Dense` class from Keras to define our layers."
   ]
  },
  {
   "cell_type": "code",
   "execution_count": 27,
   "metadata": {
    "collapsed": false
   },
   "outputs": [
    {
     "name": "stdout",
     "output_type": "stream",
     "text": [
      "Model: \"sequential_2\"\n",
      "_________________________________________________________________\n",
      " Layer (type)                Output Shape              Param #   \n",
      "=================================================================\n",
      " dense_6 (Dense)             (None, 64)                4160      \n",
      "                                                                 \n",
      " dense_7 (Dense)             (None, 64)                4160      \n",
      "                                                                 \n",
      " dense_8 (Dense)             (None, 10)                650       \n",
      "                                                                 \n",
      "=================================================================\n",
      "Total params: 8,970\n",
      "Trainable params: 8,970\n",
      "Non-trainable params: 0\n",
      "_________________________________________________________________\n"
     ]
    }
   ],
   "source": [
    "from tensorflow.keras.models import Sequential\n",
    "from tensorflow.keras.layers import Dense\n",
    "\n",
    "model = Sequential()\n",
    "\n",
    "# Input layer\n",
    "model.add(Dense(64, activation='relu', input_shape=(64,))) # 64 neurons, ReLU activation, input shape of 64\n",
    "## activation='relu' -> the non-linear element of the layer\n",
    "## input_shape=(64,)  -> 8 x 8 pixes = 64\n",
    "\n",
    "# Hidden layer\n",
    "model.add(Dense(64, activation='relu')) # 64 neurons, ReLU activation\n",
    "\n",
    "# Output layer\n",
    "model.add(Dense(10, activation='softmax')) # 10 neurons, softmax activation\n",
    "\n",
    "model.summary()"
   ]
  },
  {
   "cell_type": "markdown",
   "metadata": {
    "collapsed": false
   },
   "source": [
    "Congratulations! You have just built your first neural network with Keras. As we can confirm from the `model.summary()` output, our model has 3 layers. The first layer has 64 neurons, the second layer has 64 neurons, and the output layer has 10 neurons. The output layer uses the softmax activation function, which is commonly used for multi-class classification problems. The other layers use the ReLU activation function, which is commonly used for hidden layers in neural networks.\n",
    "\n",
    "Next, we need to compile the model. This is where we define the loss function, the optimizer, and the metrics that we want to use to evaluate the model. We will use the `compile` method of the model to do this."
   ]
  },
  {
   "cell_type": "code",
   "execution_count": 28,
   "metadata": {
    "collapsed": false
   },
   "outputs": [],
   "source": [
    "model.compile(\n",
    "    loss='categorical_crossentropy', # Loss function\n",
    "    optimizer='sgd', # Optimizer\n",
    "    # optimizer=optimizers.SGD(learning_rate=0.01),  # Optimizer\n",
    "    metrics=['accuracy'] # Metrics to evaluate the model\n",
    ")"
   ]
  },
  {
   "cell_type": "markdown",
   "metadata": {
    "collapsed": false
   },
   "source": [
    "Because we are predicting which class a sample belongs to, we will use the `categorical_crossentropy` function. This loss function is commonly used for multi-class classification problems. \n",
    "\n",
    "For our optimizer, we are using the standard stochastic gradient descent (SGD) algorithm. This is a simple optimizer that works well for many problems. We will look at more advanced optimizers later in the course.\n",
    "\n",
    "Finally, we are using the `accuracy` metric to evaluate the model. This is a common metric for classification problems, and it is simply the fraction of samples that are correctly classified. This is an easier metric for us to understand, but it's not quite as useful for actually training the model (for example, it doesn't tell us how \"confident\" the model is in its predictions).\n",
    "\n",
    "Now that we have (a) defined the model architecture and (b) compiled the model, we are ready to train the model. We will use the `fit` method of the model to do this."
   ]
  },
  {
   "cell_type": "code",
   "execution_count": 29,
   "metadata": {
    "collapsed": false
   },
   "outputs": [
    {
     "name": "stdout",
     "output_type": "stream",
     "text": [
      "Epoch 1/15\n",
      "36/36 [==============================] - 1s 13ms/step - loss: 1.7995 - accuracy: 0.5100 - val_loss: 0.7232 - val_accuracy: 0.7743\n",
      "Epoch 2/15\n",
      "36/36 [==============================] - 0s 4ms/step - loss: 0.5605 - accuracy: 0.8407 - val_loss: 0.4429 - val_accuracy: 0.8611\n",
      "Epoch 3/15\n",
      "36/36 [==============================] - 0s 4ms/step - loss: 0.3720 - accuracy: 0.8964 - val_loss: 0.3928 - val_accuracy: 0.8854\n",
      "Epoch 4/15\n",
      "36/36 [==============================] - 0s 4ms/step - loss: 0.2913 - accuracy: 0.9130 - val_loss: 0.2543 - val_accuracy: 0.9271\n",
      "Epoch 5/15\n",
      "36/36 [==============================] - 0s 4ms/step - loss: 0.2183 - accuracy: 0.9426 - val_loss: 0.2300 - val_accuracy: 0.9444\n",
      "Epoch 6/15\n",
      "36/36 [==============================] - 0s 5ms/step - loss: 0.1977 - accuracy: 0.9460 - val_loss: 0.2168 - val_accuracy: 0.9340\n",
      "Epoch 7/15\n",
      "36/36 [==============================] - 0s 5ms/step - loss: 0.1597 - accuracy: 0.9600 - val_loss: 0.1882 - val_accuracy: 0.9479\n",
      "Epoch 8/15\n",
      "36/36 [==============================] - 0s 4ms/step - loss: 0.1435 - accuracy: 0.9634 - val_loss: 0.1815 - val_accuracy: 0.9514\n",
      "Epoch 9/15\n",
      "36/36 [==============================] - 0s 4ms/step - loss: 0.1241 - accuracy: 0.9713 - val_loss: 0.1611 - val_accuracy: 0.9583\n",
      "Epoch 10/15\n",
      "36/36 [==============================] - 0s 4ms/step - loss: 0.1111 - accuracy: 0.9748 - val_loss: 0.1572 - val_accuracy: 0.9549\n",
      "Epoch 11/15\n",
      "36/36 [==============================] - 0s 5ms/step - loss: 0.0986 - accuracy: 0.9765 - val_loss: 0.1668 - val_accuracy: 0.9479\n",
      "Epoch 12/15\n",
      "36/36 [==============================] - 0s 4ms/step - loss: 0.0855 - accuracy: 0.9835 - val_loss: 0.1567 - val_accuracy: 0.9618\n",
      "Epoch 13/15\n",
      "36/36 [==============================] - 0s 4ms/step - loss: 0.0767 - accuracy: 0.9861 - val_loss: 0.1514 - val_accuracy: 0.9514\n",
      "Epoch 14/15\n",
      "36/36 [==============================] - 0s 4ms/step - loss: 0.0732 - accuracy: 0.9852 - val_loss: 0.1501 - val_accuracy: 0.9549\n",
      "Epoch 15/15\n",
      "36/36 [==============================] - 0s 4ms/step - loss: 0.0695 - accuracy: 0.9887 - val_loss: 0.1391 - val_accuracy: 0.9688\n"
     ]
    }
   ],
   "source": [
    "history = model.fit(\n",
    "    X_train, # Training data\n",
    "    y_train, # Training labels\n",
    "    epochs=15, # Number of epochs\n",
    "    batch_size=32, # Number of samples per batch\n",
    "    validation_split=0.2 # Use 20% of the data for validation\n",
    ")\n",
    "\n",
    "# the \"loss\" below shows how far the correct result is ... as more iterations (epochs) the loss reduces"
   ]
  },
  {
   "cell_type": "markdown",
   "metadata": {
    "collapsed": false
   },
   "source": [
    "We have now trained our model! We can see that the model has been trained for 5 epochs, and the loss and accuracy have been printed for each epoch. We can also see that the model has been evaluated on the validation data at the end of each epoch. This is useful for us to see how the model is performing on data that it hasn't seen during training.\n",
    "\n",
    "Once the model is trained, it's time to evaluate the model on the test set. We can use the `evaluate` method of the model to do this. If you were building a model for a real-world application, this is the very last thing you would do, and the result here would be the figure you'd report in your paper or presentation."
   ]
  },
  {
   "cell_type": "code",
   "execution_count": 30,
   "metadata": {
    "collapsed": false
   },
   "outputs": [
    {
     "name": "stdout",
     "output_type": "stream",
     "text": [
      "12/12 [==============================] - 0s 3ms/step - loss: 0.1553 - accuracy: 0.9472\n",
      "Loss:     0.16\n",
      "Accuracy: 94.72%\n"
     ]
    }
   ],
   "source": [
    "loss, accuracy = model.evaluate(X_test, y_test)\n",
    "\n",
    "print(f'Loss:     {loss:.2f}')\n",
    "print(f'Accuracy: {accuracy*100:.2f}%')"
   ]
  },
  {
   "cell_type": "markdown",
   "metadata": {
    "collapsed": false
   },
   "source": [
    "Hopefully you have achieved an accuracy of around 95%. This is pretty good, but we can do better! In the next section, we will look at how we can improve the performance of our model by using a more advanced optimizer. But before we get there, let's do one other thing - let's look at the predictions that our model is making on the test set. When you are building a model, it's often useful to have a look at some of the examples your model is getting wrong. Sometimes this can reveal problems with the data, or it can give you ideas for how to improve your model."
   ]
  },
  {
   "cell_type": "code",
   "execution_count": 31,
   "metadata": {
    "collapsed": false
   },
   "outputs": [
    {
     "name": "stdout",
     "output_type": "stream",
     "text": [
      "12/12 [==============================] - 0s 3ms/step\n"
     ]
    },
    {
     "data": {
      "image/png": "[encoded data removed]",
      "text/plain": [
       "<Figure size 600x600 with 9 Axes>"
      ]
     },
     "metadata": {},
     "output_type": "display_data"
    }
   ],
   "source": [
    "# Get the predictions for the test data\n",
    "predictions = model.predict(X_test)\n",
    "\n",
    "# Get the index of the largest probability (i.e. the predicted class)\n",
    "predicted_classes = np.argmax(predictions, axis=1)\n",
    "true_classes = np.argmax(y_test, axis=1)\n",
    "misclassified_indices = np.where(predicted_classes != true_classes)[0]\n",
    "\n",
    "# Get the misclassified samples themselves\n",
    "misclassified_samples = X_test[misclassified_indices]\n",
    "misclassified_labels = np.argmax(y_test[misclassified_indices], axis=1)\n",
    "\n",
    "# Pick 9 random misclassified samples\n",
    "random_indices = np.random.choice(len(misclassified_indices), 9, replace=False)\n",
    "\n",
    "fig, axes = plt.subplots(3, 3, figsize=(6, 6))\n",
    "for i, ax in enumerate(axes.flat):\n",
    "    ax.imshow(misclassified_samples[random_indices[i]].reshape(8, 8), cmap=plt.cm.gray_r, interpolation='nearest')\n",
    "    ax.set_title(f\"Pred: {predicted_classes[misclassified_indices[random_indices[i]]]}, Real: {misclassified_labels[random_indices[i]]}\")\n",
    "\n",
    "    # Removing axis labels\n",
    "    ax.set_xticks([])\n",
    "    ax.set_yticks([])\n",
    "    \n",
    "plt.show()"
   ]
  },
  {
   "cell_type": "markdown",
   "metadata": {
    "collapsed": false
   },
   "source": [
    "What do you think? Would you have made the same mistakes as the model? Determining whether the mistakes are \"understandable\" is a rough way of seeing if you could improve the model further, or if this is the best you can do with the data you have."
   ]
  },
  {
   "cell_type": "markdown",
   "metadata": {},
   "source": [
    "### b) Exercises: Impact of the Optimizer\n",
    "\n",
    "In this section, you will play around with the optimizer and see how it affects the performance of the model. We will start with the standard SGD optimizer, and then we will look at more advanced optimizers.\n",
    "\n",
    "1. Try decreasing the learning rate of the SGD optimizer by a factor of 10, or 100. What do you observe?\n",
    "2. Try increasing the learning rate of the SGD optimizer. What happens?\n",
    "3. The SGD optimizer has a momentum parameter. In a nutshell, this parameter controls how much the gradient from the previous step affects the current step. Try enabling momentum in the SGD optimizer with a value of 0.9. What happens?\n",
    "  \n",
    "**Notes**: \n",
    "\n",
    "The keras API documentation is available at:\n",
    "\n",
    "https://www.tensorflow.org/api_docs/python/tf/keras\n",
    "\n",
    "It is also possible to learn more about the parameters of a class by using the question mark: type and evaluate:\n",
    "\n",
    "```python\n",
    "optimizers.SGD?\n",
    "```\n",
    "\n",
    "in a jupyter notebook cell.\n",
    "\n",
    "It is also possible to type the beginning of a function call / constructor and type \"shift-tab\" after the opening paren:\n",
    "\n",
    "```python\n",
    "optimizers.SGD(<shift-tab>\n",
    "```"
   ]
  },
  {
   "cell_type": "code",
   "execution_count": 32,
   "metadata": {},
   "outputs": [
    {
     "name": "stdout",
     "output_type": "stream",
     "text": [
      "Model: \"sequential_3\"\n",
      "_________________________________________________________________\n",
      " Layer (type)                Output Shape              Param #   \n",
      "=================================================================\n",
      " dense_9 (Dense)             (None, 64)                4160      \n",
      "                                                                 \n",
      " dense_10 (Dense)            (None, 64)                4160      \n",
      "                                                                 \n",
      " dense_11 (Dense)            (None, 10)                650       \n",
      "                                                                 \n",
      "=================================================================\n",
      "Total params: 8,970\n",
      "Trainable params: 8,970\n",
      "Non-trainable params: 0\n",
      "_________________________________________________________________\n"
     ]
    },
    {
     "ename": "NameError",
     "evalue": "name 'optimizers' is not defined",
     "output_type": "error",
     "traceback": [
      "\u001b[1;31m---------------------------------------------------------------------------\u001b[0m",
      "\u001b[1;31mNameError\u001b[0m                                 Traceback (most recent call last)",
      "Cell \u001b[1;32mIn[32], line 21\u001b[0m\n\u001b[0;32m     14\u001b[0m model2\u001b[38;5;241m.\u001b[39madd(Dense(\u001b[38;5;241m10\u001b[39m, activation\u001b[38;5;241m=\u001b[39m\u001b[38;5;124m'\u001b[39m\u001b[38;5;124msoftmax\u001b[39m\u001b[38;5;124m'\u001b[39m)) \u001b[38;5;66;03m# 10 neurons, softmax activation\u001b[39;00m\n\u001b[0;32m     16\u001b[0m model2\u001b[38;5;241m.\u001b[39msummary()\n\u001b[0;32m     18\u001b[0m model2\u001b[38;5;241m.\u001b[39mcompile(\n\u001b[0;32m     19\u001b[0m     loss\u001b[38;5;241m=\u001b[39m\u001b[38;5;124m'\u001b[39m\u001b[38;5;124mcategorical_crossentropy\u001b[39m\u001b[38;5;124m'\u001b[39m, \u001b[38;5;66;03m# Loss function\u001b[39;00m\n\u001b[0;32m     20\u001b[0m     \u001b[38;5;66;03m# optimizer='sgd', # Optimizer \u001b[39;00m\n\u001b[1;32m---> 21\u001b[0m     optimizer \u001b[38;5;241m=\u001b[39m \u001b[43moptimizers\u001b[49m\u001b[38;5;241m.\u001b[39mSGD(learning_rate \u001b[38;5;241m=\u001b[39m \u001b[38;5;241m0.001\u001b[39m),  \u001b[38;5;66;03m# Optimizer\u001b[39;00m\n\u001b[0;32m     22\u001b[0m                                                         \u001b[38;5;66;03m## Start the rate with 0.1 ... then 0.01 ... 0.001\u001b[39;00m\n\u001b[0;32m     23\u001b[0m                                                         \u001b[38;5;66;03m## SGD = Stochastic Gradient Descent\u001b[39;00m\n\u001b[0;32m     24\u001b[0m                                                         \u001b[38;5;66;03m## momentum = learn from past iterations\u001b[39;00m\n\u001b[0;32m     25\u001b[0m     metrics\u001b[38;5;241m=\u001b[39m[\u001b[38;5;124m'\u001b[39m\u001b[38;5;124maccuracy\u001b[39m\u001b[38;5;124m'\u001b[39m] \u001b[38;5;66;03m# Metrics to evaluate the model\u001b[39;00m\n\u001b[0;32m     26\u001b[0m )\n\u001b[0;32m     28\u001b[0m history2 \u001b[38;5;241m=\u001b[39m model2\u001b[38;5;241m.\u001b[39mfit (X_train , y_train, epochs \u001b[38;5;241m=\u001b[39m \u001b[38;5;241m15\u001b[39m, batch_size\u001b[38;5;241m=\u001b[39m\u001b[38;5;241m32\u001b[39m)\n\u001b[0;32m     30\u001b[0m \u001b[38;5;66;03m# when learning_rate = 0.01 the loss start at 1.1436 and finish at 0.0395\u001b[39;00m\n\u001b[0;32m     31\u001b[0m \u001b[38;5;66;03m# when learning_rate = 0.001 the loss start at 4.2435 and finish at 0.3474\u001b[39;00m\n",
      "\u001b[1;31mNameError\u001b[0m: name 'optimizers' is not defined"
     ]
    }
   ],
   "source": [
    "# Your code here - copy the relevant parts from the previous section and add more cells as needed\n",
    "\n",
    "model2 = Sequential()\n",
    "\n",
    "# Input layer\n",
    "model2.add(Dense(64, activation='relu', input_shape=(64,))) # 64 neurons, ReLU activation, input shape of 64\n",
    "## activation='relu' -> the non-linear element of the layer\n",
    "## input_shape=(64,)  -> 8 x 8 pixes = 64\n",
    "\n",
    "# Hidden layer\n",
    "model2.add(Dense(64, activation='relu')) # 64 neurons, ReLU activation\n",
    "\n",
    "# Output layer\n",
    "model2.add(Dense(10, activation='softmax')) # 10 neurons, softmax activation\n",
    "\n",
    "model2.summary()\n",
    "\n",
    "model2.compile(\n",
    "    loss='categorical_crossentropy', # Loss function\n",
    "    # optimizer='sgd', # Optimizer \n",
    "    optimizer = optimizers.SGD(learning_rate = 0.001),  # Optimizer\n",
    "                                                        ## Start the rate with 0.1 ... then 0.01 ... 0.001\n",
    "                                                        ## SGD = Stochastic Gradient Descent\n",
    "                                                        ## momentum = learn from past iterations\n",
    "    metrics=['accuracy'] # Metrics to evaluate the model\n",
    ")\n",
    "\n",
    "history2 = model2.fit (X_train , y_train, epochs = 15, batch_size=32)\n",
    "\n",
    "# when learning_rate = 0.01 the loss start at 1.1436 and finish at 0.0395\n",
    "# when learning_rate = 0.001 the loss start at 4.2435 and finish at 0.3474"
   ]
  },
  {
   "cell_type": "markdown",
   "metadata": {},
   "source": [
    "Next, let's try a more advanced optimizer. Adam is likely the most popular optimizer for deep learning. It is an adaptive learning rate optimizer, which means that it automatically adjusts the learning rate based on how the training is going. This can be very useful, as it means that we don't need to manually tune the learning rate. Let's see how it performs on our model.\n",
    "\n",
    "\n",
    "1. Replace the SGD optimizer by the Adam optimizer from keras and run it\n",
    "  with the default parameters.\n",
    "\n",
    "2. Add another hidden layer with ReLU activation and 64 neurons. Does it improve the model performance?\n"
   ]
  },
  {
   "cell_type": "code",
   "execution_count": null,
   "metadata": {},
   "outputs": [
    {
     "name": "stdout",
     "output_type": "stream",
     "text": [
      "Model: \"sequential_19\"\n",
      "_________________________________________________________________\n",
      " Layer (type)                Output Shape              Param #   \n",
      "=================================================================\n",
      " dense_57 (Dense)            (None, 64)                4160      \n",
      "                                                                 \n",
      " dense_58 (Dense)            (None, 64)                4160      \n",
      "                                                                 \n",
      " dense_59 (Dense)            (None, 64)                4160      \n",
      "                                                                 \n",
      " dense_60 (Dense)            (None, 10)                650       \n",
      "                                                                 \n",
      "=================================================================\n",
      "Total params: 13,130\n",
      "Trainable params: 13,130\n",
      "Non-trainable params: 0\n",
      "_________________________________________________________________\n",
      "Epoch 1/15\n",
      "45/45 [==============================] - 1s 3ms/step - loss: 1.2731 - accuracy: 0.6200\n",
      "Epoch 2/15\n",
      "45/45 [==============================] - 0s 3ms/step - loss: 0.2995 - accuracy: 0.8977\n",
      "Epoch 3/15\n",
      "45/45 [==============================] - 0s 3ms/step - loss: 0.1461 - accuracy: 0.9589\n",
      "Epoch 4/15\n",
      "45/45 [==============================] - 0s 3ms/step - loss: 0.1102 - accuracy: 0.9694\n",
      "Epoch 5/15\n",
      "45/45 [==============================] - 0s 3ms/step - loss: 0.0939 - accuracy: 0.9673\n",
      "Epoch 6/15\n",
      "45/45 [==============================] - 0s 3ms/step - loss: 0.0659 - accuracy: 0.9784\n",
      "Epoch 7/15\n",
      "45/45 [==============================] - 0s 3ms/step - loss: 0.0531 - accuracy: 0.9826\n",
      "Epoch 8/15\n",
      "45/45 [==============================] - 0s 3ms/step - loss: 0.0700 - accuracy: 0.9749\n",
      "Epoch 9/15\n",
      "45/45 [==============================] - 0s 3ms/step - loss: 0.0578 - accuracy: 0.9798\n",
      "Epoch 10/15\n",
      "45/45 [==============================] - 0s 3ms/step - loss: 0.0819 - accuracy: 0.9743\n",
      "Epoch 11/15\n",
      "45/45 [==============================] - 0s 3ms/step - loss: 0.0452 - accuracy: 0.9847\n",
      "Epoch 12/15\n",
      "45/45 [==============================] - 0s 4ms/step - loss: 0.0185 - accuracy: 0.9965\n",
      "Epoch 13/15\n",
      "45/45 [==============================] - 0s 3ms/step - loss: 0.0181 - accuracy: 0.9930\n",
      "Epoch 14/15\n",
      "45/45 [==============================] - 0s 3ms/step - loss: 0.0100 - accuracy: 0.9972\n",
      "Epoch 15/15\n",
      "45/45 [==============================] - 0s 3ms/step - loss: 0.0028 - accuracy: 1.0000\n"
     ]
    }
   ],
   "source": [
    "# Your code here\n",
    "model3 = Sequential()\n",
    "\n",
    "# Input layer\n",
    "model3.add(Dense(64, activation='relu', input_shape=(64,))) # 64 neurons, ReLU activation, input shape of 64\n",
    "## activation='relu' -> the non-linear element of the layer\n",
    "## input_shape=(64,)  -> 8 x 8 pixes = 64\n",
    "\n",
    "# Hidden layer\n",
    "model3.add(Dense(64, activation='relu')) # 64 neurons, ReLU activation\n",
    "\n",
    "# Output layer\n",
    "model3.add(Dense(10, activation='softmax')) # 10 neurons, softmax activation\n",
    "\n",
    "model3.summary()\n",
    "\n",
    "model3.compile(\n",
    "    loss='categorical_crossentropy', # Loss function\n",
    "    #optimizer='sgd', # Optimizer\n",
    "    optimizer = optimizers.SGD(learning_rate = 0.01, momentum = 0.9),  # Optimizer\n",
    "    metrics=['accuracy'] # Metrics to evaluate the model\n",
    ")\n",
    "\n",
    "history3 = model3.fit (X_train , y_train, epochs = 15, batch_size=32)\n",
    "\n",
    "# add momentum = 0.9 made the model converge much faster!\n"
   ]
  },
  {
   "cell_type": "markdown",
   "metadata": {},
   "source": [
    "### Exercises: Forward Pass and Generalization\n",
    "\n",
    "Let's look in more detail at how the model makes predictions on the test set. We will walk through each step of making predictions, examining exactly what's going on.\n",
    "\n",
    "To start, we will apply our model to the test set, and look at what we get as output:"
   ]
  },
  {
   "cell_type": "code",
   "execution_count": null,
   "metadata": {},
   "outputs": [
    {
     "data": {
      "text/plain": [
       "<tf.Tensor: shape=(5, 10), dtype=float32, numpy=\n",
       "array([[2.01610947e-05, 7.55960218e-06, 2.45392670e-07, 1.76713542e-08,\n",
       "        7.70610422e-05, 3.58318943e-07, 9.99848604e-01, 2.34051910e-07,\n",
       "        4.30468936e-05, 2.67843689e-06],\n",
       "       [6.79845971e-06, 4.30888258e-06, 4.65209723e-07, 1.81360316e-04,\n",
       "        2.68620315e-05, 1.10774614e-01, 9.23767686e-07, 3.25655164e-05,\n",
       "        2.54029110e-05, 8.88946652e-01],\n",
       "       [2.65371341e-07, 1.74665843e-06, 1.35219059e-04, 9.99066591e-01,\n",
       "        8.92157725e-09, 2.44493101e-04, 1.83341399e-06, 1.30510580e-05,\n",
       "        3.60010163e-05, 5.00697701e-04],\n",
       "       [3.41087510e-03, 1.53925980e-03, 8.68740099e-05, 4.81530267e-04,\n",
       "        4.84982133e-03, 5.71268005e-03, 3.24576795e-05, 9.69265282e-01,\n",
       "        2.75058788e-04, 1.43461870e-02],\n",
       "       [6.00838257e-06, 2.08698821e-05, 9.86978292e-01, 7.96403550e-03,\n",
       "        2.35178432e-09, 1.64047997e-05, 2.10691214e-05, 6.17229762e-06,\n",
       "        4.95013734e-03, 3.69187910e-05]], dtype=float32)>"
      ]
     },
     "execution_count": 90,
     "metadata": {},
     "output_type": "execute_result"
    }
   ],
   "source": [
    "predictions_tf = model(X_test)\n",
    "predictions_tf[:5]"
   ]
  },
  {
   "cell_type": "code",
   "execution_count": null,
   "metadata": {},
   "outputs": [
    {
     "data": {
      "text/plain": [
       "(tensorflow.python.framework.ops.EagerTensor, TensorShape([360, 10]))"
      ]
     },
     "execution_count": 91,
     "metadata": {},
     "output_type": "execute_result"
    }
   ],
   "source": [
    "type(predictions_tf), predictions_tf.shape"
   ]
  },
  {
   "cell_type": "markdown",
   "metadata": {},
   "source": [
    "The raw output of the model is a tensor of shape `(360, 10)`. This means that we have 360 samples, and for each sample we have 10 values. Each of these values represents the probability that the sample belongs to a given class. This means that we have 10 probabilities for each sample, and the sum of these probabilities is 1. We can confirm this by summing the probabilities for each sample:"
   ]
  },
  {
   "cell_type": "code",
   "execution_count": null,
   "metadata": {},
   "outputs": [
    {
     "data": {
      "text/plain": [
       "<tf.Tensor: shape=(5,), dtype=float32, numpy=\n",
       "array([0.99999994, 0.99999994, 0.9999999 , 1.        , 0.9999999 ],\n",
       "      dtype=float32)>"
      ]
     },
     "execution_count": 92,
     "metadata": {},
     "output_type": "execute_result"
    }
   ],
   "source": [
    "import tensorflow as tf\n",
    "\n",
    "tf.reduce_sum(predictions_tf, axis=1)[:5]"
   ]
  },
  {
   "cell_type": "markdown",
   "metadata": {
    "collapsed": false
   },
   "source": [
    "...okay, there might be a small rounding error here and there. This is to do with how floating point numbers are represented in computers, and it's not something we need to worry about for now."
   ]
  },
  {
   "cell_type": "markdown",
   "metadata": {},
   "source": [
    "We can also extract the label with the highest probability using the tensorflow API:"
   ]
  },
  {
   "cell_type": "code",
   "execution_count": null,
   "metadata": {},
   "outputs": [
    {
     "data": {
      "text/plain": [
       "<tf.Tensor: shape=(5,), dtype=int64, numpy=array([6, 9, 3, 7, 2], dtype=int64)>"
      ]
     },
     "execution_count": 93,
     "metadata": {},
     "output_type": "execute_result"
    }
   ],
   "source": [
    "predicted_labels_tf = tf.argmax(predictions_tf, axis=1)\n",
    "predicted_labels_tf[:5]"
   ]
  },
  {
   "cell_type": "markdown",
   "metadata": {
    "collapsed": false
   },
   "source": [
    "One helpful aspect of this approach is that we don't just get the prediction, but also a sense of how confident the model is in its prediction. To see this in practice, let's take a look at some of the predictions the model is highly confident about (i.e. a lot of the probability mass is on one class):"
   ]
  },
  {
   "cell_type": "code",
   "execution_count": null,
   "metadata": {
    "collapsed": false
   },
   "outputs": [
    {
     "data": {
      "image/png": "[encoded data removed]",
      "text/plain": [
       "<Figure size 600x600 with 9 Axes>"
      ]
     },
     "metadata": {},
     "output_type": "display_data"
    }
   ],
   "source": [
    "# Get the values corresponding to the predicted labels for each sample\n",
    "predicted_values_tf = tf.reduce_max(predictions_tf, axis=1)\n",
    "\n",
    "# Get the indices of the samples with the highest predicted values\n",
    "most_confident_indices_tf = tf.argsort(predicted_values_tf, direction='DESCENDING').numpy()[:9]\n",
    "\n",
    "# Get the 9 most confident samples\n",
    "most_confident_samples_tf = X_test[most_confident_indices_tf]\n",
    "\n",
    "# Get the true labels for the 9 most confident samples\n",
    "most_confident_labels_tf = np.argmax(y_test[most_confident_indices_tf], axis=1)\n",
    "\n",
    "# Plot the 9 most confident samples\n",
    "fig, axes = plt.subplots(3, 3, figsize=(6, 6))\n",
    "\n",
    "for i, ax in enumerate(axes.flat):\n",
    "    ax.imshow(most_confident_samples_tf[i].reshape(8, 8), cmap=plt.cm.gray_r, interpolation='nearest')\n",
    "    ax.set_title(f\"{most_confident_labels_tf[i]}\")\n",
    "\n",
    "    # Removing axis labels\n",
    "    ax.set_xticks([])\n",
    "    ax.set_yticks([])\n",
    "    \n",
    "plt.show()"
   ]
  },
  {
   "cell_type": "markdown",
   "metadata": {},
   "source": [
    "## Impact of Initialization\n",
    "\n",
    "Let's study the impact of a bad initialization when training\n",
    "a deep feed forward network.\n",
    "\n",
    "By default, Keras dense layers use the \"Glorot Uniform\" initialization\n",
    "strategy to initialize the weight matrices:\n",
    "\n",
    "- each weight coefficient is randomly sampled from [-scale, scale]\n",
    "- scale is proportional to $\\frac{1}{\\sqrt{n_{in} + n_{out}}}$\n",
    "\n",
    "This strategy is known to work well to initialize deep neural networks\n",
    "with \"tanh\" or \"relu\" activation functions and then trained with\n",
    "standard SGD.\n",
    "\n",
    "To assess the impact of initialization let us plug an alternative init\n",
    "scheme into a 2 hidden layers networks with \"tanh\" activations.\n",
    "For the sake of the example let's use normal distributed weights\n",
    "with a manually adjustable scale (standard deviation) and see the\n",
    "impact the scale value:"
   ]
  },
  {
   "cell_type": "code",
   "execution_count": null,
   "metadata": {},
   "outputs": [],
   "source": [
    "from tensorflow.keras import initializers\n",
    "from tensorflow.keras import optimizers\n",
    "\n",
    "input_dim = 64\n",
    "hidden_dim = 64\n",
    "output_dim = 10\n",
    "\n",
    "normal_init = initializers.TruncatedNormal(stddev=0.01, seed=42)\n",
    "\n",
    "model = Sequential()\n",
    "\n",
    "model.add(Dense(hidden_dim, input_dim=input_dim, activation=\"tanh\",\n",
    "                kernel_initializer=normal_init))\n",
    "\n",
    "model.add(Dense(hidden_dim, activation=\"tanh\",\n",
    "                kernel_initializer=normal_init))\n",
    "\n",
    "model.add(Dense(output_dim, activation=\"softmax\",\n",
    "                kernel_initializer=normal_init))\n",
    "\n",
    "model.compile(optimizer=optimizers.SGD(learning_rate=0.1),\n",
    "              loss='categorical_crossentropy', metrics=['accuracy'])"
   ]
  },
  {
   "cell_type": "code",
   "execution_count": null,
   "metadata": {},
   "outputs": [
    {
     "data": {
      "text/plain": [
       "[<keras.layers.core.dense.Dense at 0x287c3084c70>,\n",
       " <keras.layers.core.dense.Dense at 0x287c3084bb0>,\n",
       " <keras.layers.core.dense.Dense at 0x287c307f2e0>]"
      ]
     },
     "execution_count": 96,
     "metadata": {},
     "output_type": "execute_result"
    }
   ],
   "source": [
    "model.layers"
   ]
  },
  {
   "cell_type": "markdown",
   "metadata": {},
   "source": [
    "Let's have a look at the parameters of the first layer after initialization but before any training has happened:"
   ]
  },
  {
   "cell_type": "code",
   "execution_count": null,
   "metadata": {},
   "outputs": [
    {
     "data": {
      "text/plain": [
       "[<tf.Variable 'dense_54/kernel:0' shape=(64, 64) dtype=float32, numpy=\n",
       " array([[ 1.58170762e-04, -1.59008689e-02,  1.03594456e-03, ...,\n",
       "          9.62818228e-03,  6.24957308e-03,  9.94726177e-03],\n",
       "        [ 1.39539372e-02, -5.69676049e-03, -5.13145979e-03, ...,\n",
       "         -1.02958630e-03, -1.21196425e-02, -2.44869553e-02],\n",
       "        [ 5.01998402e-02, -9.82458517e-02, -7.56048784e-02, ...,\n",
       "         -2.58549545e-02, -1.31364897e-01,  6.37659729e-02],\n",
       "        ...,\n",
       "        [ 1.18982757e-03, -6.24336228e-02,  1.17749006e-01, ...,\n",
       "         -8.82261172e-02,  1.02415688e-01, -1.81099668e-01],\n",
       "        [ 2.07840689e-02, -7.84315094e-02,  9.63484794e-02, ...,\n",
       "         -7.32458383e-02,  1.85409784e-02, -8.82382244e-02],\n",
       "        [ 3.17696668e-02,  2.53611070e-04,  4.91540954e-02, ...,\n",
       "          5.60919531e-02,  2.28674076e-02, -4.73014042e-02]], dtype=float32)>,\n",
       " <tf.Variable 'dense_54/bias:0' shape=(64,) dtype=float32, numpy=\n",
       " array([-6.6187372e-04, -2.3550717e-03,  1.3371912e-03, -3.8229041e-03,\n",
       "        -1.5762895e-03, -1.0855389e-03, -8.6179067e-04, -3.9160540e-04,\n",
       "         7.3295709e-04, -2.9562840e-03, -6.2858546e-04,  5.9773372e-03,\n",
       "         1.6561367e-03,  9.0337463e-04,  1.4664711e-03, -1.3947823e-03,\n",
       "         5.2672145e-03,  3.7483240e-03, -1.1772313e-03, -3.8785082e-03,\n",
       "         1.2153268e-03,  1.6434805e-03,  4.4338582e-03, -1.2826080e-03,\n",
       "         6.1563915e-03, -1.8911073e-03, -2.7405948e-03,  1.4538900e-03,\n",
       "         4.1532475e-03,  1.1642382e-03,  3.1252308e-03, -7.7850133e-04,\n",
       "         1.3391254e-03,  9.1106643e-04,  2.5254670e-03, -1.5340878e-03,\n",
       "        -1.1473317e-03, -3.6365385e-03,  2.0278818e-03,  1.2737692e-03,\n",
       "        -5.8372720e-04, -1.1068779e-03, -9.2335686e-05,  1.1738719e-03,\n",
       "         1.8055267e-03, -1.9597220e-03,  9.4766729e-04, -5.1728212e-03,\n",
       "         1.1363492e-03,  1.6410653e-03,  3.0688848e-03, -4.7454346e-04,\n",
       "        -4.2111631e-03, -3.9868448e-03,  1.8967009e-03, -2.9542265e-03,\n",
       "         3.0053598e-03,  1.5284820e-03,  1.1081512e-03, -9.4785553e-04,\n",
       "         4.9755065e-04,  6.0034974e-04, -3.6896367e-03,  1.4146541e-03],\n",
       "       dtype=float32)>]"
      ]
     },
     "execution_count": 105,
     "metadata": {},
     "output_type": "execute_result"
    }
   ],
   "source": [
    "model.layers[0].weights"
   ]
  },
  {
   "cell_type": "code",
   "execution_count": 33,
   "metadata": {},
   "outputs": [
    {
     "data": {
      "text/plain": [
       "array([[ 0.06731682, -0.07228914, -0.02729997, ..., -0.03373626,\n",
       "        -0.16472492,  0.14708449],\n",
       "       [ 0.03936407, -0.04190024, -0.21175031, ...,  0.09714254,\n",
       "        -0.1357641 , -0.02659014],\n",
       "       [-0.01293294, -0.12300672, -0.10697932, ...,  0.17008992,\n",
       "         0.13367833,  0.17814828],\n",
       "       ...,\n",
       "       [-0.10038964,  0.22071138, -0.09635323, ...,  0.12023941,\n",
       "         0.05057957, -0.22548944],\n",
       "       [-0.04558145,  0.10646859,  0.06065428, ...,  0.19841313,\n",
       "        -0.09907063,  0.10483395],\n",
       "       [-0.16772194,  0.05888703,  0.10425311, ..., -0.04792209,\n",
       "        -0.00142632, -0.11683841]], dtype=float32)"
      ]
     },
     "execution_count": 33,
     "metadata": {},
     "output_type": "execute_result"
    }
   ],
   "source": [
    "w = model.layers[0].weights[0].numpy()\n",
    "w"
   ]
  },
  {
   "cell_type": "code",
   "execution_count": 34,
   "metadata": {},
   "outputs": [
    {
     "data": {
      "text/plain": [
       "0.1267072"
      ]
     },
     "execution_count": 34,
     "metadata": {},
     "output_type": "execute_result"
    }
   ],
   "source": [
    "w.std()"
   ]
  },
  {
   "cell_type": "code",
   "execution_count": 35,
   "metadata": {},
   "outputs": [
    {
     "data": {
      "text/plain": [
       "array([-3.8769931e-04,  2.1897827e-03, -2.1124193e-03, -1.0370911e-03,\n",
       "        0.0000000e+00, -4.1209762e-03,  1.2922066e-03,  1.6307754e-03,\n",
       "        3.2481288e-03,  8.3729549e-04,  3.0569325e-03,  6.7648478e-04,\n",
       "       -2.8090046e-03, -1.5770485e-04, -3.7074642e-06, -7.2759454e-04,\n",
       "       -5.5730855e-04,  1.7474560e-03, -1.9707666e-03, -9.7716087e-04,\n",
       "        2.0404323e-03, -3.7269565e-04, -1.5398330e-03,  2.0607446e-04,\n",
       "       -1.2320139e-03,  4.7659839e-04,  1.4347569e-03,  2.4393002e-04,\n",
       "       -3.1323667e-04,  9.7013166e-04, -1.9801734e-03, -1.3556602e-04,\n",
       "        8.7341381e-04,  9.3386850e-05, -1.4580523e-03, -7.4650242e-04,\n",
       "        7.4114039e-04,  3.0690129e-03,  2.2615127e-03, -9.7647612e-04,\n",
       "        1.4067041e-03,  1.5799669e-03, -7.0647988e-04, -4.8915867e-05,\n",
       "       -9.8053750e-04,  1.7963435e-03, -5.0048617e-04, -1.6057796e-03,\n",
       "       -1.2342197e-04, -8.1842433e-04,  2.6119384e-05, -1.4240472e-03,\n",
       "        0.0000000e+00,  9.2232123e-04,  2.1660035e-06, -2.2430660e-04,\n",
       "       -2.0245824e-04, -5.2809253e-05,  3.2888365e-04, -2.0177974e-03,\n",
       "       -4.1594301e-04, -1.1758725e-03,  1.1541762e-03,  1.3324190e-03],\n",
       "      dtype=float32)"
      ]
     },
     "execution_count": 35,
     "metadata": {},
     "output_type": "execute_result"
    }
   ],
   "source": [
    "b = model.layers[0].weights[1].numpy() # show the bias\n",
    "b"
   ]
  },
  {
   "cell_type": "code",
   "execution_count": 36,
   "metadata": {},
   "outputs": [
    {
     "name": "stdout",
     "output_type": "stream",
     "text": [
      "Epoch 1/15\n",
      "45/45 [==============================] - 0s 3ms/step - loss: 0.0819 - accuracy: 0.9833\n",
      "Epoch 2/15\n",
      "45/45 [==============================] - 0s 3ms/step - loss: 0.0696 - accuracy: 0.9889\n",
      "Epoch 3/15\n",
      "45/45 [==============================] - 0s 3ms/step - loss: 0.0637 - accuracy: 0.9889\n",
      "Epoch 4/15\n",
      "45/45 [==============================] - 0s 3ms/step - loss: 0.0609 - accuracy: 0.9861\n",
      "Epoch 5/15\n",
      "45/45 [==============================] - 0s 3ms/step - loss: 0.0538 - accuracy: 0.9903\n",
      "Epoch 6/15\n",
      "45/45 [==============================] - 0s 3ms/step - loss: 0.0477 - accuracy: 0.9937\n",
      "Epoch 7/15\n",
      "45/45 [==============================] - 0s 3ms/step - loss: 0.0455 - accuracy: 0.9903\n",
      "Epoch 8/15\n",
      "45/45 [==============================] - 0s 3ms/step - loss: 0.0427 - accuracy: 0.9903\n",
      "Epoch 9/15\n",
      "45/45 [==============================] - 0s 3ms/step - loss: 0.0380 - accuracy: 0.9930\n",
      "Epoch 10/15\n",
      "45/45 [==============================] - 0s 4ms/step - loss: 0.0375 - accuracy: 0.9923\n",
      "Epoch 11/15\n",
      "45/45 [==============================] - 0s 3ms/step - loss: 0.0349 - accuracy: 0.9923\n",
      "Epoch 12/15\n",
      "45/45 [==============================] - 0s 3ms/step - loss: 0.0324 - accuracy: 0.9937\n",
      "Epoch 13/15\n",
      "45/45 [==============================] - 0s 3ms/step - loss: 0.0301 - accuracy: 0.9944\n",
      "Epoch 14/15\n",
      "45/45 [==============================] - 0s 3ms/step - loss: 0.0290 - accuracy: 0.9958\n",
      "Epoch 15/15\n",
      "45/45 [==============================] - 0s 3ms/step - loss: 0.0274 - accuracy: 0.9944\n"
     ]
    },
    {
     "data": {
      "text/plain": [
       "<matplotlib.legend.Legend at 0x24c6aba3040>"
      ]
     },
     "execution_count": 36,
     "metadata": {},
     "output_type": "execute_result"
    },
    {
     "data": {
      "image/png": "[encoded data removed]",
      "text/plain": [
       "<Figure size 1200x400 with 1 Axes>"
      ]
     },
     "metadata": {},
     "output_type": "display_data"
    }
   ],
   "source": [
    "history = model.fit(X_train, y_train, epochs=15, batch_size=32)\n",
    "\n",
    "plt.figure(figsize=(12, 4))\n",
    "plt.plot(history.history['loss'], label=\"Truncated Normal init\")\n",
    "plt.legend()"
   ]
  },
  {
   "cell_type": "markdown",
   "metadata": {},
   "source": [
    "Once the model has been fit, the weights have been updated and notably the biases are no longer 0:"
   ]
  },
  {
   "cell_type": "code",
   "execution_count": null,
   "metadata": {},
   "outputs": [
    {
     "data": {
      "text/plain": [
       "[<tf.Variable 'dense_54/kernel:0' shape=(64, 64) dtype=float32, numpy=\n",
       " array([[ 1.58170762e-04, -1.59008689e-02,  1.03594456e-03, ...,\n",
       "          9.62818228e-03,  6.24957308e-03,  9.94726177e-03],\n",
       "        [ 1.39539372e-02, -5.69676049e-03, -5.13145979e-03, ...,\n",
       "         -1.02958630e-03, -1.21196425e-02, -2.44869553e-02],\n",
       "        [ 5.01998402e-02, -9.82458517e-02, -7.56048784e-02, ...,\n",
       "         -2.58549545e-02, -1.31364897e-01,  6.37659729e-02],\n",
       "        ...,\n",
       "        [ 1.18982757e-03, -6.24336228e-02,  1.17749006e-01, ...,\n",
       "         -8.82261172e-02,  1.02415688e-01, -1.81099668e-01],\n",
       "        [ 2.07840689e-02, -7.84315094e-02,  9.63484794e-02, ...,\n",
       "         -7.32458383e-02,  1.85409784e-02, -8.82382244e-02],\n",
       "        [ 3.17696668e-02,  2.53611070e-04,  4.91540954e-02, ...,\n",
       "          5.60919531e-02,  2.28674076e-02, -4.73014042e-02]], dtype=float32)>,\n",
       " <tf.Variable 'dense_54/bias:0' shape=(64,) dtype=float32, numpy=\n",
       " array([-6.6187372e-04, -2.3550717e-03,  1.3371912e-03, -3.8229041e-03,\n",
       "        -1.5762895e-03, -1.0855389e-03, -8.6179067e-04, -3.9160540e-04,\n",
       "         7.3295709e-04, -2.9562840e-03, -6.2858546e-04,  5.9773372e-03,\n",
       "         1.6561367e-03,  9.0337463e-04,  1.4664711e-03, -1.3947823e-03,\n",
       "         5.2672145e-03,  3.7483240e-03, -1.1772313e-03, -3.8785082e-03,\n",
       "         1.2153268e-03,  1.6434805e-03,  4.4338582e-03, -1.2826080e-03,\n",
       "         6.1563915e-03, -1.8911073e-03, -2.7405948e-03,  1.4538900e-03,\n",
       "         4.1532475e-03,  1.1642382e-03,  3.1252308e-03, -7.7850133e-04,\n",
       "         1.3391254e-03,  9.1106643e-04,  2.5254670e-03, -1.5340878e-03,\n",
       "        -1.1473317e-03, -3.6365385e-03,  2.0278818e-03,  1.2737692e-03,\n",
       "        -5.8372720e-04, -1.1068779e-03, -9.2335686e-05,  1.1738719e-03,\n",
       "         1.8055267e-03, -1.9597220e-03,  9.4766729e-04, -5.1728212e-03,\n",
       "         1.1363492e-03,  1.6410653e-03,  3.0688848e-03, -4.7454346e-04,\n",
       "        -4.2111631e-03, -3.9868448e-03,  1.8967009e-03, -2.9542265e-03,\n",
       "         3.0053598e-03,  1.5284820e-03,  1.1081512e-03, -9.4785553e-04,\n",
       "         4.9755065e-04,  6.0034974e-04, -3.6896367e-03,  1.4146541e-03],\n",
       "       dtype=float32)>]"
      ]
     },
     "execution_count": 102,
     "metadata": {},
     "output_type": "execute_result"
    }
   ],
   "source": [
    "model.layers[0].weights"
   ]
  },
  {
   "cell_type": "markdown",
   "metadata": {},
   "source": [
    "#### Questions:\n",
    "\n",
    "- Try the following initialization schemes and see whether\n",
    "  the SGD algorithm can successfully train the network or\n",
    "  not:\n",
    "  \n",
    "  - a very small e.g. `stddev=1e-3`\n",
    "  - a larger scale e.g. `stddev=1` or `10`\n",
    "  - initialize all weights to 0 (constant initialization)\n",
    "  \n",
    "- What do you observe? Can you find an explanation for those\n",
    "  outcomes?\n",
    "\n",
    "- Are more advanced solvers such as SGD with momentum or Adam able\n",
    "  to deal better with such bad initializations?"
   ]
  },
  {
   "cell_type": "code",
   "execution_count": 57,
   "metadata": {},
   "outputs": [
    {
     "name": "stdout",
     "output_type": "stream",
     "text": [
      "Training model with stddev =  0.001\n",
      "Epoch 1/15\n",
      "45/45 [==============================] - 1s 2ms/step - loss: 2.3037 - accuracy: 0.1002\n",
      "Epoch 2/15\n",
      "45/45 [==============================] - 0s 3ms/step - loss: 2.3034 - accuracy: 0.0953\n",
      "Epoch 3/15\n",
      "45/45 [==============================] - 0s 2ms/step - loss: 2.3032 - accuracy: 0.1072\n",
      "Epoch 4/15\n",
      "45/45 [==============================] - 0s 2ms/step - loss: 2.3032 - accuracy: 0.1072\n",
      "Epoch 5/15\n",
      "45/45 [==============================] - 0s 2ms/step - loss: 2.3033 - accuracy: 0.1072\n",
      "Epoch 6/15\n",
      "45/45 [==============================] - 0s 2ms/step - loss: 2.3031 - accuracy: 0.1072\n",
      "Epoch 7/15\n",
      "45/45 [==============================] - 0s 3ms/step - loss: 2.3032 - accuracy: 0.1072\n",
      "Epoch 8/15\n",
      "45/45 [==============================] - 0s 2ms/step - loss: 2.3027 - accuracy: 0.1072\n",
      "Epoch 9/15\n",
      "45/45 [==============================] - 0s 2ms/step - loss: 2.3017 - accuracy: 0.1002\n",
      "Epoch 10/15\n",
      "45/45 [==============================] - 0s 2ms/step - loss: 2.1301 - accuracy: 0.1802\n",
      "Epoch 11/15\n",
      "45/45 [==============================] - 0s 2ms/step - loss: 1.7892 - accuracy: 0.2032\n",
      "Epoch 12/15\n",
      "45/45 [==============================] - 0s 2ms/step - loss: 1.6439 - accuracy: 0.2797\n",
      "Epoch 13/15\n",
      "45/45 [==============================] - 0s 2ms/step - loss: 1.4248 - accuracy: 0.3452\n",
      "Epoch 14/15\n",
      "45/45 [==============================] - 0s 2ms/step - loss: 1.3510 - accuracy: 0.4802\n",
      "Epoch 15/15\n",
      "45/45 [==============================] - 0s 2ms/step - loss: 0.9583 - accuracy: 0.6590\n",
      "Training model with stddev =  1\n",
      "Epoch 1/15\n",
      "45/45 [==============================] - 1s 2ms/step - loss: 4.2690 - accuracy: 0.2756\n",
      "Epoch 2/15\n",
      "45/45 [==============================] - 0s 2ms/step - loss: 1.8259 - accuracy: 0.4795\n",
      "Epoch 3/15\n",
      "45/45 [==============================] - 0s 2ms/step - loss: 1.3268 - accuracy: 0.5929\n",
      "Epoch 4/15\n",
      "45/45 [==============================] - 0s 2ms/step - loss: 1.2019 - accuracy: 0.6214\n",
      "Epoch 5/15\n",
      "45/45 [==============================] - 0s 2ms/step - loss: 0.9320 - accuracy: 0.6959\n",
      "Epoch 6/15\n",
      "45/45 [==============================] - 0s 2ms/step - loss: 0.8653 - accuracy: 0.7154\n",
      "Epoch 7/15\n",
      "45/45 [==============================] - 0s 2ms/step - loss: 0.7820 - accuracy: 0.7411\n",
      "Epoch 8/15\n",
      "45/45 [==============================] - 0s 2ms/step - loss: 0.7254 - accuracy: 0.7662\n",
      "Epoch 9/15\n",
      "45/45 [==============================] - 0s 2ms/step - loss: 0.7373 - accuracy: 0.7683\n",
      "Epoch 10/15\n",
      "45/45 [==============================] - 0s 2ms/step - loss: 0.6380 - accuracy: 0.7968\n",
      "Epoch 11/15\n",
      "45/45 [==============================] - 0s 2ms/step - loss: 0.6551 - accuracy: 0.8024\n",
      "Epoch 12/15\n",
      "45/45 [==============================] - 0s 2ms/step - loss: 0.6187 - accuracy: 0.8100\n",
      "Epoch 13/15\n",
      "45/45 [==============================] - 0s 2ms/step - loss: 0.5326 - accuracy: 0.8427\n",
      "Epoch 14/15\n",
      "45/45 [==============================] - 0s 2ms/step - loss: 0.5031 - accuracy: 0.8441\n",
      "Epoch 15/15\n",
      "45/45 [==============================] - 0s 2ms/step - loss: 0.4713 - accuracy: 0.8546\n",
      "Training model with stddev =  10\n",
      "Epoch 1/15\n",
      "45/45 [==============================] - 1s 2ms/step - loss: 96.9122 - accuracy: 0.1016\n",
      "Epoch 2/15\n",
      "45/45 [==============================] - 0s 3ms/step - loss: 68.3336 - accuracy: 0.1315\n",
      "Epoch 3/15\n",
      "45/45 [==============================] - 0s 2ms/step - loss: 54.4712 - accuracy: 0.1350\n",
      "Epoch 4/15\n",
      "45/45 [==============================] - 0s 2ms/step - loss: 37.7616 - accuracy: 0.1754\n",
      "Epoch 5/15\n",
      "45/45 [==============================] - 0s 2ms/step - loss: 29.7811 - accuracy: 0.1809\n",
      "Epoch 6/15\n",
      "45/45 [==============================] - 0s 2ms/step - loss: 24.1071 - accuracy: 0.1601\n",
      "Epoch 7/15\n",
      "45/45 [==============================] - 0s 3ms/step - loss: 17.2424 - accuracy: 0.1677\n",
      "Epoch 8/15\n",
      "45/45 [==============================] - 0s 2ms/step - loss: 10.4930 - accuracy: 0.1385\n",
      "Epoch 9/15\n",
      "45/45 [==============================] - 0s 2ms/step - loss: 8.8565 - accuracy: 0.1580\n",
      "Epoch 10/15\n",
      "45/45 [==============================] - 0s 2ms/step - loss: 8.0918 - accuracy: 0.1301\n",
      "Epoch 11/15\n",
      "45/45 [==============================] - 0s 2ms/step - loss: 8.0150 - accuracy: 0.1225\n",
      "Epoch 12/15\n",
      "45/45 [==============================] - 0s 2ms/step - loss: 7.4530 - accuracy: 0.1204\n",
      "Epoch 13/15\n",
      "45/45 [==============================] - 0s 2ms/step - loss: 7.0681 - accuracy: 0.1239\n",
      "Epoch 14/15\n",
      "45/45 [==============================] - 0s 2ms/step - loss: 6.5214 - accuracy: 0.1100\n",
      "Epoch 15/15\n",
      "45/45 [==============================] - 0s 2ms/step - loss: 6.1024 - accuracy: 0.1280\n"
     ]
    },
    {
     "data": {
      "image/png": "[encoded data removed]",
      "text/plain": [
       "<Figure size 1200x400 with 1 Axes>"
      ]
     },
     "metadata": {},
     "output_type": "display_data"
    },
    {
     "data": {
      "image/png": "[encoded data removed]",
      "text/plain": [
       "<Figure size 1200x400 with 1 Axes>"
      ]
     },
     "metadata": {},
     "output_type": "display_data"
    },
    {
     "data": {
      "image/png": "[encoded data removed]",
      "text/plain": [
       "<Figure size 1200x400 with 1 Axes>"
      ]
     },
     "metadata": {},
     "output_type": "display_data"
    }
   ],
   "source": [
    "# Your code here\n",
    "from tensorflow.keras.models import Sequential\n",
    "from tensorflow.keras.layers import Dense\n",
    "from tensorflow.keras import initializers\n",
    "from tensorflow.keras import optimizers\n",
    "import matplotlib.pyplot as plt\n",
    "\n",
    "input_dim = 64\n",
    "hidden_dim = 64\n",
    "output_dim = 10\n",
    "history = {}\n",
    "\n",
    "#############################\n",
    "# Define the model\n",
    "#############################\n",
    "\n",
    "stddev_options = [1e-3, 1 , 10]\n",
    "i=0\n",
    "for stddev in stddev_options:\n",
    "\n",
    "    print (\"Training model with stddev = \",stddev)\n",
    "    normal_init = initializers.TruncatedNormal(stddev = stddev, seed=42)\n",
    "\n",
    "    model = Sequential()\n",
    "\n",
    "    model.add(Dense(hidden_dim, \n",
    "                input_dim=input_dim, \n",
    "                activation=\"tanh\", \n",
    "                kernel_initializer=normal_init))\n",
    "\n",
    "    model.add(Dense(hidden_dim, \n",
    "                activation=\"tanh\",\n",
    "                kernel_initializer=normal_init))\n",
    "\n",
    "    model.add(Dense(output_dim, \n",
    "                activation=\"softmax\",\n",
    "                kernel_initializer=normal_init))\n",
    "\n",
    "    ##############################\n",
    "    # compile de model\n",
    "    ##############################\n",
    "\n",
    "    model.compile(optimizer=optimizers.SGD(learning_rate=0.1),\n",
    "              loss='categorical_crossentropy', \n",
    "              metrics=['accuracy'])\n",
    "\n",
    "    ##############################\n",
    "    # train de model\n",
    "    ##############################\n",
    "    history = model.fit(X_train, y_train, epochs=15, batch_size=32)\n",
    "\n",
    "    plt.figure(figsize=(12, 4))\n",
    "    plt.plot(history.history['loss'], label=\"Truncated Normal init - stddev = \" + str(stddev))\n",
    "    plt.legend()\n"
   ]
  }
 ],
 "metadata": {
  "file_extension": ".py",
  "kernelspec": {
   "display_name": "Python 3 (ipykernel)",
   "language": "python",
   "name": "python3"
  },
  "language_info": {
   "codemirror_mode": {
    "name": "ipython",
    "version": 3
   },
   "file_extension": ".py",
   "mimetype": "text/x-python",
   "name": "python",
   "nbconvert_exporter": "python",
   "pygments_lexer": "ipython3",
   "version": "3.9.15"
  },
  "mimetype": "text/x-python",
  "name": "python",
  "npconvert_exporter": "python",
  "pygments_lexer": "ipython3",
  "toc": {
   "base_numbering": 1,
   "nav_menu": {},
   "number_sections": true,
   "sideBar": true,
   "skip_h1_title": false,
   "title_cell": "Table of Contents",
   "title_sidebar": "Contents",
   "toc_cell": false,
   "toc_position": {},
   "toc_section_display": true,
   "toc_window_display": false
  },
  "version": 3
 },
 "nbformat": 4,
 "nbformat_minor": 4
}
