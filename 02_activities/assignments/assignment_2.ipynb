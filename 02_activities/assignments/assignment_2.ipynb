{
 "cells": [
  {
   "cell_type": "markdown",
   "id": "4c33cf4d",
   "metadata": {},
   "source": [
    "# Text Generation with Recurrent Neural Networks (RNNs)\n",
    "\n",
    "In this assignment, you'll build upon your understanding of RNNs and Keras to develop a word-level text generation model.  Your goal is to train a model that learns the stylistic nuances of a chosen corpus and generates new, original text segments that echo the source material's essence.\n",
    "\n",
    "**Datasets**\n",
    "\n",
    "We've provided several intriguing text corpora to get you started:\n",
    "\n",
    "*   Mark Twain\n",
    "*   Charles Dickens\n",
    "*   William Shakespeare\n",
    "\n",
    "**Feel free to explore!**  If you have a particular passion for another author, genre, or a specific text, you're encouraged to use your own dataset of raw text."
   ]
  },
  {
   "cell_type": "code",
   "execution_count": 1,
   "id": "3ccb7a3e",
   "metadata": {},
   "outputs": [
    {
     "data": {
      "text/plain": [
       "'\\n\\nimport tensorflow as tf\\nif tf.test.gpu_device_name():\\n    print(\\'Default GPU Device: {}\\'.format(tf.test.gpu_device_name()))\\nelse:\\n    print(\"No GPU available. If you\\'re on Colab, go to Runtime > Change runtime and select a GPU hardware accelerator.\")\\n\\n'"
      ]
     },
     "execution_count": 1,
     "metadata": {},
     "output_type": "execute_result"
    }
   ],
   "source": [
    "# Check if we have a GPU available\n",
    "'''\n",
    "\n",
    "import tensorflow as tf\n",
    "if tf.test.gpu_device_name():\n",
    "    print('Default GPU Device: {}'.format(tf.test.gpu_device_name()))\n",
    "else:\n",
    "    print(\"No GPU available. If you're on Colab, go to Runtime > Change runtime and select a GPU hardware accelerator.\")\n",
    "\n",
    "'''"
   ]
  },
  {
   "cell_type": "code",
   "execution_count": 2,
   "id": "e9a67ce8",
   "metadata": {},
   "outputs": [],
   "source": [
    "def download_file(url, file_path):\n",
    "    import requests\n",
    "    r = requests.get(url)\n",
    "    with open(file_path, 'wb') as f:\n",
    "        f.write(r.content)\n",
    "\n",
    "def load_dataset(file_path, fraction=1.0):\n",
    "    with open(file_path, 'r', encoding='utf-8') as f:\n",
    "        raw_text = f.read()\n",
    "    return raw_text[:int(fraction * len(raw_text))]\n",
    "\n",
    "dataset = 'shakespeare.txt' # Other options are mark_twain.txt, charles_dickens.txt\n",
    "\n",
    "download_file(f'https://github.com/UofT-DSI/deep_learning/raw/main/assignments/downloaded_books/' + dataset, dataset)\n",
    "\n",
    "# Load chosen dataset. NOTE: If Colab is running out of memory, change the `fraction` parameter to a value between 0 and 1 to load less data.\n",
    "text = load_dataset(dataset, fraction=0.1)"
   ]
  },
  {
   "cell_type": "markdown",
   "id": "d1eb75b9",
   "metadata": {},
   "source": [
    "# 1. Data Preparation (Complete or Incomplete)\n",
    "\n",
    "Before we can begin training an RNN model, we need to prepare the dataset. This involves cleaning the text, tokenizing words, and creating sequences the model can be trained on.\n",
    "\n",
    "## 1.1 Data Exploration\n",
    "\n",
    "Print the first 1000 characters of the dataset. Report the dataset's size and the number of unique characters it contains."
   ]
  },
  {
   "cell_type": "code",
   "execution_count": 3,
   "id": "16f65be2",
   "metadata": {},
   "outputs": [],
   "source": [
    "dataset = 'downloaded_books/shakespeare.txt'\n",
    "\n",
    "text = load_dataset(dataset, fraction=0.1)"
   ]
  },
  {
   "cell_type": "code",
   "execution_count": 4,
   "id": "9f1ae392",
   "metadata": {},
   "outputs": [
    {
     "name": "stdout",
     "output_type": "stream",
     "text": [
      "Number of unique characters: 131\n",
      "Size in characters: 935886\n"
     ]
    }
   ],
   "source": [
    "\n",
    "unique_characters = len(set(text))\n",
    "print(f\"Number of unique characters: {unique_characters}\")\n",
    "\n",
    "print (\"Size in characters:\", len(text))\n"
   ]
  },
  {
   "cell_type": "code",
   "execution_count": 5,
   "id": "5f717a1e",
   "metadata": {},
   "outputs": [
    {
     "data": {
      "text/plain": [
       "['The',\n",
       " 'Project',\n",
       " 'Gutenberg',\n",
       " 'EBook',\n",
       " 'of',\n",
       " 'Hamlet,',\n",
       " 'by',\n",
       " 'William',\n",
       " 'Shakespeare\\n\\nThis',\n",
       " 'eBook',\n",
       " 'is',\n",
       " 'for',\n",
       " 'the',\n",
       " 'use',\n",
       " 'of',\n",
       " 'anyone',\n",
       " 'anywhere',\n",
       " 'at',\n",
       " 'no',\n",
       " 'cost',\n",
       " 'and',\n",
       " 'with\\nalmost',\n",
       " 'no',\n",
       " 'restrictions',\n",
       " 'whatsoever.',\n",
       " '',\n",
       " 'You',\n",
       " 'may',\n",
       " 'copy',\n",
       " 'it,',\n",
       " 'give',\n",
       " 'it',\n",
       " 'away',\n",
       " 'or\\nre-use',\n",
       " 'it',\n",
       " 'under',\n",
       " 'the',\n",
       " 'terms',\n",
       " 'of',\n",
       " 'the',\n",
       " 'Project',\n",
       " 'Gutenberg',\n",
       " 'License',\n",
       " 'included\\nwith',\n",
       " 'this',\n",
       " 'eBook',\n",
       " 'or',\n",
       " 'online',\n",
       " 'at',\n",
       " 'www.gutenberg.org\\n\\n\\nTitle:',\n",
       " 'Hamlet\\n\\nAuthor:',\n",
       " 'William',\n",
       " 'Shakespeare\\n\\nEditor:',\n",
       " 'Charles',\n",
       " 'Kean\\n\\nRelease',\n",
       " 'Date:',\n",
       " 'January',\n",
       " '10,',\n",
       " '2009',\n",
       " '[EBook',\n",
       " '#27761]\\n\\nLanguage:',\n",
       " 'English\\n\\nCharacter',\n",
       " 'set',\n",
       " 'encoding:',\n",
       " 'UTF-8\\n\\n***',\n",
       " 'START',\n",
       " 'OF',\n",
       " 'THIS',\n",
       " 'PROJECT',\n",
       " 'GUTENBERG',\n",
       " 'EBOOK',\n",
       " 'HAMLET',\n",
       " '***\\n\\n\\n\\n\\nProduced',\n",
       " 'by',\n",
       " 'David',\n",
       " 'Starner,',\n",
       " 'Curtis',\n",
       " 'Weyant',\n",
       " 'and',\n",
       " 'the',\n",
       " 'Online\\nDistributed',\n",
       " 'Proofreading',\n",
       " 'Team',\n",
       " 'at',\n",
       " 'https://www.pgdp.net\\n\\n\\n\\n\\n\\n\\n\\n\\n\\n',\n",
       " '',\n",
       " '',\n",
       " '',\n",
       " \"Transcriber's\",\n",
       " 'Note:\\n',\n",
       " '',\n",
       " '',\n",
       " '',\n",
       " 'This',\n",
       " 'is',\n",
       " 'a',\n",
       " 'heavily',\n",
       " 'edited',\n",
       " 'version',\n",
       " 'of',\n",
       " '_Hamlet_.',\n",
       " 'It',\n",
       " 'was',\n",
       " 'used\\n',\n",
       " '',\n",
       " '',\n",
       " '',\n",
       " 'for',\n",
       " 'Charles',\n",
       " \"Kean's\",\n",
       " '1859',\n",
       " 'stage',\n",
       " 'production.',\n",
       " 'Phrases',\n",
       " 'printed\\n',\n",
       " '',\n",
       " '',\n",
       " '',\n",
       " 'in',\n",
       " 'italics',\n",
       " 'in',\n",
       " 'the',\n",
       " 'book',\n",
       " 'are',\n",
       " 'indicated',\n",
       " 'in',\n",
       " 'this',\n",
       " 'electronic\\n',\n",
       " '',\n",
       " '',\n",
       " '',\n",
       " 'version',\n",
       " 'by',\n",
       " '_',\n",
       " '(underscore).',\n",
       " 'Footnotes',\n",
       " 'originally',\n",
       " 'appeared\\n',\n",
       " '',\n",
       " '',\n",
       " '',\n",
       " 'at',\n",
       " 'the',\n",
       " 'bottom',\n",
       " 'of',\n",
       " 'each',\n",
       " 'page.',\n",
       " 'For',\n",
       " 'this',\n",
       " 'electronic',\n",
       " 'version\\n',\n",
       " '',\n",
       " '',\n",
       " '',\n",
       " 'the',\n",
       " 'footnotes',\n",
       " '']"
      ]
     },
     "execution_count": 5,
     "metadata": {},
     "output_type": "execute_result"
    }
   ],
   "source": [
    "# Your code here\n",
    "\n",
    "text[:1000].split(\" \")\n"
   ]
  },
  {
   "cell_type": "markdown",
   "id": "87df756a",
   "metadata": {},
   "source": [
    "## 1.2 Text Pre-Processing\n",
    "\n",
    "To prepare the dataset for training, we need to clean the text and create a numerical representation the model can interpret. Perform the following pre-processing steps:\n",
    "\n",
    "*   Convert the entire text to lowercase.\n",
    "*   Use the `Tokenizer` class from the `keras.preprocessing.text` module to tokenize the text. You should fit the tokenizer on the text and then convert the text to a sequence of numbers. You can use the `texts_to_sequences` method to do this.\n",
    "\n",
    "**Note**:\n",
    "* You'll need to specify an appropriate size for the vocabulary. The number of words in the list of most common words can serve as a guide - does it seem like a reasonable vocabulary size?\n",
    "* Some of the words will be excluded from the vocabulary, as they don't appear often enough. It's important to provide a value for `oov_token` when creating the Tokenizer instance, so that these words can be represented as \"unknown\"."
   ]
  },
  {
   "cell_type": "code",
   "execution_count": 6,
   "id": "07242d88",
   "metadata": {},
   "outputs": [],
   "source": [
    "import numpy as np\n",
    "from keras.preprocessing.text import Tokenizer\n",
    "from sklearn.feature_extraction.text import CountVectorizer\n",
    "\n",
    "# Your code here\n",
    "VOCAB_SIZE = 10000\n",
    "OOV_TOKEN = \"<OOV>\"\n",
    "tokenizer = None\n",
    "\n",
    "# Convert the entire text to lowercase\n",
    "text_lower = text.lower()\n",
    "\n",
    "# Create a tokenizer and fit it on the text\n",
    "# max_words = 10000  # Set the maximum number of words in the vocabulary\n",
    "tokenizer = Tokenizer(num_words=VOCAB_SIZE, char_level=False, oov_token=OOV_TOKEN)\n",
    "tokenizer.fit_on_texts([text_lower])\n",
    "\n",
    "sequences = tokenizer.texts_to_sequences(text_lower)\n",
    "sequences_test = tokenizer.texts_to_sequences(text_lower)\n",
    "\n",
    "\n",
    "# Get the number of words in the vocabulary\n",
    "VOCAB_SIZE = len(tokenizer.word_index) + 1  # Add 1 for the OOV token\n"
   ]
  },
  {
   "cell_type": "markdown",
   "id": "3988ab2b",
   "metadata": {},
   "source": [
    "If everything worked, the following line should show you the first 10 words in the vocabulary:"
   ]
  },
  {
   "cell_type": "code",
   "execution_count": 7,
   "id": "cf66e723",
   "metadata": {},
   "outputs": [
    {
     "name": "stdout",
     "output_type": "stream",
     "text": [
      "[('<OOV>', 1), ('the', 2), ('and', 3), ('of', 4), ('to', 5), ('a', 6), ('in', 7), ('i', 8), ('that', 9), ('you', 10)]\n"
     ]
    }
   ],
   "source": [
    "try:\n",
    "    print(list(tokenizer.word_index.items())[:10])\n",
    "except AttributeError:\n",
    "    print(\"Tokenizer has not been initialized. Possible issue: Complete the relevant section of the assignment to initialize it.\"\n",
    ")\n"
   ]
  },
  {
   "cell_type": "markdown",
   "id": "e1fb71d8",
   "metadata": {},
   "source": [
    "## 1.3 Sequence Generation\n",
    "\n",
    "Now that the text has been tokenized, we need to create sequences the model can be trained on. There are two parts to this:\n",
    "\n",
    "*   Use the `texts_to_sequences` method from the tokenizer to convert the text to a list of sequences of numbers.\n",
    "*   Generate the training sequences. Each training sequence should contain `SEQ_LENGTH` token IDs from the text. The target token for each sequence should be the word that follows the sequence in the text."
   ]
  },
  {
   "cell_type": "code",
   "execution_count": 8,
   "id": "5a518a2b",
   "metadata": {},
   "outputs": [
    {
     "name": "stdout",
     "output_type": "stream",
     "text": [
      "First few training sequences:\n",
      "Input: [   2   56   54  411    4  107   28  668  172   20  411   13   16    2\n",
      "  176    4  669 1643   33   43 1095    3   14  412   43 1790 1423   10\n",
      "   85  333   15  124   15  163   29  531  176   15  254    2  216    4\n",
      "    2   56   54  297 1248   14   20  411   29  759   33  592   54  366\n",
      "  785  107 1424  668  172 2492 1644 2833 1531  564 5224  532 5225  411\n",
      " 3310  989  609  533  177 2493 2254  462  874    4   20   56   54  411\n",
      "  107  875   28 4086 5226 5227 5228    3    2  759  733 2255 2002   33\n",
      " 1532  592] -> Target: 2256\n",
      "Input: [  56   54  411    4  107   28  668  172   20  411   13   16    2  176\n",
      "    4  669 1643   33   43 1095    3   14  412   43 1790 1423   10   85\n",
      "  333   15  124   15  163   29  531  176   15  254    2  216    4    2\n",
      "   56   54  297 1248   14   20  411   29  759   33  592   54  366  785\n",
      "  107 1424  668  172 2492 1644 2833 1531  564 5224  532 5225  411 3310\n",
      "  989  609  533  177 2493 2254  462  874    4   20   56   54  411  107\n",
      "  875   28 4086 5226 5227 5228    3    2  759  733 2255 2002   33 1532\n",
      "  592 2256] -> Target: 1791\n",
      "Input: [  54  411    4  107   28  668  172   20  411   13   16    2  176    4\n",
      "  669 1643   33   43 1095    3   14  412   43 1790 1423   10   85  333\n",
      "   15  124   15  163   29  531  176   15  254    2  216    4    2   56\n",
      "   54  297 1248   14   20  411   29  759   33  592   54  366  785  107\n",
      " 1424  668  172 2492 1644 2833 1531  564 5224  532 5225  411 3310  989\n",
      "  609  533  177 2493 2254  462  874    4   20   56   54  411  107  875\n",
      "   28 4086 5226 5227 5228    3    2  759  733 2255 2002   33 1532  592\n",
      " 2256 1791] -> Target: 7340\n",
      "Input: [ 411    4  107   28  668  172   20  411   13   16    2  176    4  669\n",
      " 1643   33   43 1095    3   14  412   43 1790 1423   10   85  333   15\n",
      "  124   15  163   29  531  176   15  254    2  216    4    2   56   54\n",
      "  297 1248   14   20  411   29  759   33  592   54  366  785  107 1424\n",
      "  668  172 2492 1644 2833 1531  564 5224  532 5225  411 3310  989  609\n",
      "  533  177 2493 2254  462  874    4   20   56   54  411  107  875   28\n",
      " 4086 5226 5227 5228    3    2  759  733 2255 2002   33 1532  592 2256\n",
      " 1791 7340] -> Target: 207\n",
      "Input: [   4  107   28  668  172   20  411   13   16    2  176    4  669 1643\n",
      "   33   43 1095    3   14  412   43 1790 1423   10   85  333   15  124\n",
      "   15  163   29  531  176   15  254    2  216    4    2   56   54  297\n",
      " 1248   14   20  411   29  759   33  592   54  366  785  107 1424  668\n",
      "  172 2492 1644 2833 1531  564 5224  532 5225  411 3310  989  609  533\n",
      "  177 2493 2254  462  874    4   20   56   54  411  107  875   28 4086\n",
      " 5226 5227 5228    3    2  759  733 2255 2002   33 1532  592 2256 1791\n",
      " 7340  207] -> Target: 20\n"
     ]
    }
   ],
   "source": [
    "SEQ_LENGTH = 100 # Choose an appropriate sequence length\n",
    "\n",
    "# Convert the text to a list of sequences of numbers\n",
    "sequences = tokenizer.texts_to_sequences([text_lower])[0]\n",
    "\n",
    "# Generate the training sequences\n",
    "X = []\n",
    "y = []\n",
    "\n",
    "# Your code here\n",
    "# Generate training sequences\n",
    "for i in range(len(sequences) - SEQ_LENGTH):\n",
    "    input_sequence = sequences[i:i + SEQ_LENGTH]\n",
    "    target_token = sequences[i + SEQ_LENGTH]\n",
    "    X.append(input_sequence)\n",
    "    y.append(target_token)\n",
    "\n",
    "# Convert X and y to numpy arrays\n",
    "X = np.array(X)\n",
    "y = np.array(y)\n",
    "\n",
    "# Print the first few training sequences\n",
    "print(\"First few training sequences:\")\n",
    "for i in range(5):\n",
    "    print(f\"Input: {X[i]} -> Target: {y[i]}\")"
   ]
  },
  {
   "cell_type": "markdown",
   "id": "944471ea",
   "metadata": {},
   "source": [
    "Assuming your sequences are stored in `X` and the corresponding targets in `y`, the following line should print the first training sequence and its target:"
   ]
  },
  {
   "cell_type": "code",
   "execution_count": 9,
   "id": "bad745d2",
   "metadata": {},
   "outputs": [
    {
     "name": "stdout",
     "output_type": "stream",
     "text": [
      "Sequence: [   2   56   54  411    4  107   28  668  172   20  411   13   16    2\n",
      "  176    4  669 1643   33   43 1095    3   14  412   43 1790 1423   10\n",
      "   85  333   15  124   15  163   29  531  176   15  254    2  216    4\n",
      "    2   56   54  297 1248   14   20  411   29  759   33  592   54  366\n",
      "  785  107 1424  668  172 2492 1644 2833 1531  564 5224  532 5225  411\n",
      " 3310  989  609  533  177 2493 2254  462  874    4   20   56   54  411\n",
      "  107  875   28 4086 5226 5227 5228    3    2  759  733 2255 2002   33\n",
      " 1532  592]\n",
      "Target: 2256\n",
      "Translated back to words: ['the', 'project', 'gutenberg', 'ebook', 'of', 'hamlet', 'by', 'william', 'shakespeare', 'this', 'ebook', 'is', 'for', 'the', 'use', 'of', 'anyone', 'anywhere', 'at', 'no', 'cost', 'and', 'with', 'almost', 'no', 'restrictions', 'whatsoever', 'you', 'may', 'copy', 'it', 'give', 'it', 'away', 'or', 're', 'use', 'it', 'under', 'the', 'terms', 'of', 'the', 'project', 'gutenberg', 'license', 'included', 'with', 'this', 'ebook', 'or', 'online', 'at', 'www', 'gutenberg', 'org', 'title', 'hamlet', 'author', 'william', 'shakespeare', 'editor', 'charles', 'kean', 'release', 'date', 'january', '10', '2009', 'ebook', '27761', 'language', 'english', 'character', 'set', 'encoding', 'utf', '8', 'start', 'of', 'this', 'project', 'gutenberg', 'ebook', 'hamlet', 'produced', 'by', 'david', 'starner', 'curtis', 'weyant', 'and', 'the', 'online', 'distributed', 'proofreading', 'team', 'at', 'https', 'www'] -> pgdp\n"
     ]
    }
   ],
   "source": [
    "if len(X) > 0 and len(y) > 0:\n",
    "    print(f'Sequence: {X[0]}\\nTarget: {y[0]}')\n",
    "    print(f'Translated back to words: {[tokenizer.index_word[i] for i in X[0]]} -> {tokenizer.index_word[y[0]]}')\n",
    "else:\n",
    "    print(\"Training sequences have not been generated. Possible issue: Complete the relevant section of the assignment to initialize it.\")\n"
   ]
  },
  {
   "cell_type": "markdown",
   "id": "a28910a7",
   "metadata": {},
   "source": [
    "And the following code will transform y into a one-hot encoded matrix, and split everything into training and validation sets:"
   ]
  },
  {
   "cell_type": "code",
   "execution_count": 10,
   "id": "b2f37169",
   "metadata": {},
   "outputs": [
    {
     "name": "stdout",
     "output_type": "stream",
     "text": [
      "X_train shape: (122681, 100)\n",
      "y_train shape: (122681, 13219)\n"
     ]
    }
   ],
   "source": [
    "from sklearn.model_selection import train_test_split\n",
    "from keras.utils import to_categorical\n",
    "import numpy as np\n",
    "\n",
    "# Ensure that tokenizer has been initialized\n",
    "if tokenizer is not None:\n",
    "    # Convert X and y to numpy arrays\n",
    "    X = np.array(X)\n",
    "    y = np.array(y)\n",
    "\n",
    "    # One last thing: let's drop any examples where the target is the OOV token - we don't want our model to predict that (boring!)\n",
    "    if OOV_TOKEN in tokenizer.word_index:\n",
    "        mask = y != tokenizer.word_index[OOV_TOKEN]\n",
    "        X = X[mask]\n",
    "        y = y[mask]\n",
    "\n",
    "    # One-hot encode the target token\n",
    "    y = to_categorical(y, num_classes=VOCAB_SIZE)\n",
    "\n",
    "    # Split the data into training and validation sets\n",
    "    X_train, X_val, y_train, y_val = train_test_split(X, y, test_size=0.2, random_state=42)\n",
    "\n",
    "    print(f'X_train shape: {X_train.shape}')\n",
    "    print(f'y_train shape: {y_train.shape}')\n",
    "else:\n",
    "    print(\"Tokenizer has not been initialized. Please initialize it and load the vocabulary before continuing.\")\n"
   ]
  },
  {
   "cell_type": "markdown",
   "id": "94e4d36a",
   "metadata": {},
   "source": [
    "# 2. Model Development (Complete or Incomplete)\n",
    "\n",
    "With the dataset prepared, it's time to develop the RNN model. You'll need to define the architecture of the model, compile it, and prepare it for training.\n",
    "\n",
    "## 2.1 Model Architecture\n",
    "\n",
    "Define the architecture of your RNN model. You can design it however you like, but there are a few features that it's important to include:\n",
    "\n",
    "*   An embedding layer that learns a dense representation of the input tokens. You'll need to specify the input dimension (the size of the vocabulary) and the output dimension (the size of the dense representation). Remember, you can look at the documentation [here](https://keras.io/api/layers/core_layers/embedding/).\n",
    "*   At least one recurrent layer. We have learned how to use LSTM layers in class, but you can use other types of recurrent layers if you prefer. You can find the documentation [here](https://keras.io/api/layers/recurrent_layers/lstm/).\n",
    "*   A dense layer with a softmax activation function. This layer will output a probability distribution over the vocabulary, so that the model can make predictions about the next token."
   ]
  },
  {
   "cell_type": "code",
   "execution_count": 11,
   "id": "84649d7d",
   "metadata": {},
   "outputs": [
    {
     "name": "stdout",
     "output_type": "stream",
     "text": [
      "Model: \"sequential\"\n",
      "_________________________________________________________________\n",
      " Layer (type)                Output Shape              Param #   \n",
      "=================================================================\n",
      " embedding (Embedding)       (None, 100, 128)          1692032   \n",
      "                                                                 \n",
      " lstm (LSTM)                 (None, 100)               91600     \n",
      "                                                                 \n",
      " dense (Dense)               (None, 13219)             1335119   \n",
      "                                                                 \n",
      "=================================================================\n",
      "Total params: 3,118,751\n",
      "Trainable params: 3,118,751\n",
      "Non-trainable params: 0\n",
      "_________________________________________________________________\n"
     ]
    }
   ],
   "source": [
    "from keras.models import Sequential\n",
    "from keras.layers import Embedding, LSTM, Dense, Conv1D, MaxPooling1D, Flatten\n",
    "\n",
    "\n",
    "model = Sequential([\n",
    "\n",
    "    # Your code here\n",
    "    Embedding(input_dim=VOCAB_SIZE, output_dim=128, input_length=SEQ_LENGTH, trainable = True),\n",
    "    LSTM(100), # return_sequences=True for sequence-to-sequence prediction\n",
    "    Dense(units=VOCAB_SIZE, activation='softmax')\n",
    "])\n",
    "\n",
    "# Check if the model has layers before trying to print the summary\n",
    "if len(model.layers) > 0:\n",
    "    model.summary()\n",
    "else:\n",
    "    print(\"No layers have been added to the model. Please complete the assignment by adding the required layers.\")"
   ]
  },
  {
   "cell_type": "markdown",
   "id": "ca55f43b",
   "metadata": {},
   "source": [
    "## 2.2 Model Compilation\n",
    "\n",
    "Compile the model with an appropriate loss function and optimizer. You might also want to track additional metrics, such as accuracy.\n",
    "\n",
    "Give a short explanation of your choice of loss function and optimizer:\n",
    "\n",
    "_your explanation here_"
   ]
  },
  {
   "cell_type": "code",
   "execution_count": 12,
   "id": "8d5acba4",
   "metadata": {},
   "outputs": [],
   "source": [
    "# Your code here\n",
    "model.compile(optimizer='adam', loss='categorical_crossentropy', metrics=['accuracy'])\n"
   ]
  },
  {
   "cell_type": "markdown",
   "id": "f8aa9f8b",
   "metadata": {},
   "source": [
    "## 2.3 Model Training\n",
    "\n",
    "Train the model on the training data you've prepared.\n",
    "\n",
    "* Train your model for 5 epochs with a batch size of 128. Use the validation data for validation.\n",
    "* Store the training history in a variable called `history`."
   ]
  },
  {
   "cell_type": "code",
   "execution_count": 13,
   "id": "e0d5e1a5",
   "metadata": {},
   "outputs": [
    {
     "name": "stdout",
     "output_type": "stream",
     "text": [
      "Epoch 1/5\n",
      "959/959 [==============================] - 207s 209ms/step - loss: 7.0568 - accuracy: 0.0482 - val_loss: 6.8282 - val_accuracy: 0.0594\n",
      "Epoch 2/5\n",
      "959/959 [==============================] - 235s 245ms/step - loss: 6.4870 - accuracy: 0.0751 - val_loss: 6.4516 - val_accuracy: 0.0847\n",
      "Epoch 3/5\n",
      "959/959 [==============================] - 236s 247ms/step - loss: 6.0565 - accuracy: 0.1023 - val_loss: 6.1990 - val_accuracy: 0.1054\n",
      "Epoch 4/5\n",
      "959/959 [==============================] - 245s 256ms/step - loss: 5.7259 - accuracy: 0.1225 - val_loss: 6.0720 - val_accuracy: 0.1148\n",
      "Epoch 5/5\n",
      "959/959 [==============================] - 252s 263ms/step - loss: 5.4711 - accuracy: 0.1367 - val_loss: 5.9884 - val_accuracy: 0.1213\n"
     ]
    }
   ],
   "source": [
    "# Your code here\n",
    "\n",
    "history = model.fit(X_train, y_train, validation_data=(X_val, y_val), epochs=5, batch_size=128)\n"
   ]
  },
  {
   "cell_type": "markdown",
   "id": "81500776",
   "metadata": {},
   "source": [
    "Plot the training history to visualize the model's learning progress. Your plot should include the training and validation loss."
   ]
  },
  {
   "cell_type": "code",
   "execution_count": 14,
   "id": "be7b930a",
   "metadata": {},
   "outputs": [
    {
     "data": {
      "image/png": "[encoded data removed]",
      "text/plain": [
       "<Figure size 640x480 with 1 Axes>"
      ]
     },
     "metadata": {},
     "output_type": "display_data"
    }
   ],
   "source": [
    "import matplotlib.pyplot as plt\n",
    "\n",
    "# Your code here\n",
    "plt.plot(history.history['loss'], label='Training Loss')\n",
    "plt.plot(history.history['val_loss'], label='Validation Loss')\n",
    "plt.title('Model Loss')\n",
    "plt.xlabel('Epoch')\n",
    "plt.ylabel('Loss')\n",
    "plt.legend()\n",
    "plt.show()"
   ]
  },
  {
   "cell_type": "markdown",
   "id": "2d18b7a4",
   "metadata": {},
   "source": [
    "# 3. Text Generation (Complete or Incomplete)\n",
    "\n",
    "Write a method called `generate_text` that uses the trained model to generate new text. The method should take the following parameters:\n",
    "\n",
    "*   `model`: The trained RNN model.\n",
    "*   `tokenizer`: The tokenizer used to pre-process the text data.\n",
    "*   `seed_text`: The seed text the model will use to generate new text.\n",
    "*   `max_sequence_len`: The maximum length of the sequence used to generate new text.\n",
    "\n",
    "The method should return the generated text.\n",
    "\n",
    "An overview of the text generation process you should follow:\n",
    "\n",
    "1. Tokenize the seed text using the tokenizer we built before.\n",
    "2. Pad the sequences to the same length as the training sequences - you can use the `pad_sequences` method from the `keras.preprocessing.sequence` module, which is documented [here](https://www.tensorflow.org/api_docs/python/tf/keras/preprocessing/sequence/pad_sequences).\n",
    "3. Use the model to predict the next token in the sequence. Remember that the model will output a probability distribution over the vocabulary, so you'll need to use `np.argmax` to find the token with the highest probability.\n",
    "4. Add the predicted token to the sequence and remove the first token.\n",
    "5. Repeat steps 3-4 until you have generated the desired number of tokens.\n",
    "6. Convert the generated token IDs back to words and return the combined result as a single string.\n",
    "\n",
    "This is a challenging task, so don't hesitate to ask for help if you need it. It's okay if the generated text doesn't make much sense yet - we'll work on improving the model next.\n",
    "As a bonus, you can make your method generate \"gpt-style\" by having it print out each word as it's generated, so you can see the text being generated in real time."
   ]
  },
  {
   "cell_type": "code",
   "execution_count": 15,
   "id": "c45587f4",
   "metadata": {},
   "outputs": [],
   "source": [
    "from keras.utils import pad_sequences\n",
    "\n",
    "\n",
    "def get_predicted_word(model, sequence):\n",
    "    \"\"\"\n",
    "    Get the predicted word from the model.\n",
    "    This helper function uses a concept we haven't covered in class yet: temperature.\n",
    "    In essence, a little bit of randomness in what word we predict can make the text more interesting.\n",
    "    \"\"\"\n",
    "\n",
    "    # Use the model to predict the next token in the sequence\n",
    "    yhat = model.predict(sequence, verbose=0)\n",
    "\n",
    "    # Get the index of the predicted word, according to the probabilities\n",
    "    yhat = np.random.choice(range(VOCAB_SIZE), p=yhat.ravel())\n",
    "\n",
    "    return yhat\n",
    "\n",
    "def generate_text(model, tokenizer, seed_text, max_sequence_len):\n",
    "    \"\"\"\n",
    "    Generate new text using the trained model.\n",
    "    You can use the `get_predicted_word` helper function to help you with this.\n",
    "    \"\"\"\n",
    "    generated_text = seed_text.lower()  # Initialize with seed text (converted to lowercase)\n",
    "\n",
    "    for _ in range(max_sequence_len):\n",
    "        # Tokenize the current generated text\n",
    "        sequence = tokenizer.texts_to_sequences([generated_text])[0]\n",
    "        sequence = pad_sequences([sequence], maxlen=max_sequence_len, padding='pre')\n",
    "\n",
    "        # Get the predicted word index\n",
    "        predicted_index = get_predicted_word(model, sequence)\n",
    "\n",
    "        # Convert the predicted index back to a word\n",
    "        predicted_word = tokenizer.index_word.get(predicted_index, \"<OOV>\")\n",
    "\n",
    "        # Append the predicted word to the generated text\n",
    "        generated_text += \" \" + predicted_word\n",
    "    \n",
    "    return generated_text\n"
   ]
  },
  {
   "cell_type": "code",
   "execution_count": 16,
   "id": "ab3e1a48",
   "metadata": {},
   "outputs": [
    {
     "name": "stdout",
     "output_type": "stream",
     "text": [
      "Generated text: hamlet ii 2 dromio and corinth saved delight i so aside but but three nimble of that once by a remainder ’ 235 elves when he tell we find the friend is better more pros what was in course the centaur to do not 90 ant it and he succeed got all my two message that solid honour i'll contrary lament nay tutor an words as calm reader’s gaze ant s to bear your mother of it mortal benefit dro s thine 15 it is that heaven but and like released thee to me and admit but willing to win cuckold\n"
     ]
    }
   ],
   "source": [
    "# Test the text generation function\n",
    "generated_text  = generate_text(model, tokenizer, 'hamlet', SEQ_LENGTH)\n",
    "\n",
    "print(\"Generated text:\", generated_text)"
   ]
  },
  {
   "cell_type": "markdown",
   "id": "ae49d854",
   "metadata": {},
   "source": [
    "It's likely that the text generated by your model doesn't make much sense yet. This is because the model hasn't been trained for very long, and the training dataset is relatively small. \n",
    "\n",
    "# 4. Model Refinement (Complete or Incomplete)\n",
    "\n",
    "In this last section, you'll work on improving your model. There are many ways to do this, but here are a few ideas to get you started:\n",
    "\n",
    "* Use pre-trained embeddings: the code below will help you to load pre-trained embeddings through Keras. \n",
    "* Experiment with different model architectures, including the number of layers, the number of units in each layer, and the use of dropout layers.\n",
    "* Train your model for longer. You can also experiment with different batch sizes.\n",
    "\n",
    "Implement and test out at least one of these ideas. If you have other ideas for improving the model, feel free to try them out as well."
   ]
  },
  {
   "cell_type": "code",
   "execution_count": 17,
   "id": "aba78c97",
   "metadata": {},
   "outputs": [
    {
     "name": "stderr",
     "output_type": "stream",
     "text": [
      "'wget' is not recognized as an internal or external command,\n",
      "operable program or batch file.\n",
      "'unzip' is not recognized as an internal or external command,\n",
      "operable program or batch file.\n"
     ]
    }
   ],
   "source": [
    "!wget https://downloads.cs.stanford.edu/nlp/data/glove.6B.zip\n",
    "!unzip glove.6B.zip"
   ]
  },
  {
   "cell_type": "code",
   "execution_count": 18,
   "id": "78e2e0fe",
   "metadata": {},
   "outputs": [
    {
     "data": {
      "text/plain": [
       "('glove.6B.zip', <http.client.HTTPMessage at 0x1641f00b7c0>)"
      ]
     },
     "execution_count": 18,
     "metadata": {},
     "output_type": "execute_result"
    }
   ],
   "source": [
    "from urllib.request import urlretrieve\n",
    "\n",
    "url = \"https://downloads.cs.stanford.edu/nlp/data/glove.6B.zip\"\n",
    "file_path = \"glove.6B.zip\"\n",
    "\n",
    "urlretrieve(url, file_path)"
   ]
  },
  {
   "cell_type": "code",
   "execution_count": 19,
   "id": "57a3248a",
   "metadata": {},
   "outputs": [],
   "source": [
    "import zipfile\n",
    "\n",
    "with zipfile.ZipFile(file_path, 'r') as zip_ref:\n",
    "    zip_ref.extractall()"
   ]
  },
  {
   "cell_type": "code",
   "execution_count": 20,
   "id": "1b46140c",
   "metadata": {},
   "outputs": [
    {
     "name": "stdout",
     "output_type": "stream",
     "text": [
      "Found 400000 word vectors.\n"
     ]
    }
   ],
   "source": [
    "# Load the pre-trained embeddings\n",
    "embeddings_index = {}\n",
    "try:\n",
    "    with open('glove.6B.100d.txt', encoding='utf-8') as f:\n",
    "        for line in f:\n",
    "            values = line.split()\n",
    "            word = values[0]\n",
    "            coefs = np.asarray(values[1:], dtype='float32')\n",
    "            embeddings_index[word] = coefs\n",
    "    print(f'Found {len(embeddings_index)} word vectors.')\n",
    "except FileNotFoundError:\n",
    "    print(\"'glove.6B.100d.txt' File not found. Please make sure you have ran the previous cell.\")"
   ]
  },
  {
   "cell_type": "code",
   "execution_count": 21,
   "id": "98893adc",
   "metadata": {},
   "outputs": [],
   "source": [
    "# Check if VOCAB_SIZE is set\n",
    "if VOCAB_SIZE is None:\n",
    "    print(\"You need to complete the previous parts of your assignment in order for this to work.\")\n",
    "else:\n",
    "    # Create an embedding matrix\n",
    "    embedding_matrix = np.zeros((VOCAB_SIZE, 100))\n",
    "    for word, i in tokenizer.word_index.items():\n",
    "        if i < VOCAB_SIZE:\n",
    "            embedding_vector = embeddings_index.get(word)\n",
    "            if embedding_vector is not None:\n",
    "                embedding_matrix[i] = embedding_vector"
   ]
  },
  {
   "cell_type": "code",
   "execution_count": 22,
   "id": "6c1e5706",
   "metadata": {},
   "outputs": [],
   "source": [
    "# Check if VOCAB_SIZE is set\n",
    "if VOCAB_SIZE is None:\n",
    "    print(\"You need to complete the previous parts of your assignment in order for this to work.\")\n",
    "else:\n",
    "    embedding_layer = Embedding(\n",
    "        VOCAB_SIZE, 100, \n",
    "        weights=[embedding_matrix], \n",
    "        input_length=SEQ_LENGTH,\n",
    "    )"
   ]
  },
  {
   "cell_type": "code",
   "execution_count": 23,
   "id": "5e37f593",
   "metadata": {},
   "outputs": [
    {
     "name": "stdout",
     "output_type": "stream",
     "text": [
      "Model: \"sequential_1\"\n",
      "_________________________________________________________________\n",
      " Layer (type)                Output Shape              Param #   \n",
      "=================================================================\n",
      " embedding_1 (Embedding)     (None, 100, 100)          1321900   \n",
      "                                                                 \n",
      " lstm_1 (LSTM)               (None, 100)               80400     \n",
      "                                                                 \n",
      " flatten (Flatten)           (None, 100)               0         \n",
      "                                                                 \n",
      " dense_1 (Dense)             (None, 13219)             1335119   \n",
      "                                                                 \n",
      "=================================================================\n",
      "Total params: 2,737,419\n",
      "Trainable params: 2,737,419\n",
      "Non-trainable params: 0\n",
      "_________________________________________________________________\n"
     ]
    }
   ],
   "source": [
    "# Define a new model and train it\n",
    "# Your code here\n",
    "from tensorflow.keras.optimizers import Adam\n",
    "from tensorflow.keras.layers import Dense, GlobalAveragePooling1D, Embedding, MaxPooling1D, Conv1D, LSTM\n",
    "from tensorflow.keras.models import Sequential\n",
    "\n",
    "model2 = Sequential([\n",
    "    # Add the pre-defined and pre-trained embedding layer\n",
    "    embedding_layer,\n",
    "    #Conv1D(128 , 5, activation='relu'),\n",
    "    #MaxPooling1D(5),\n",
    "    #Conv1D(64 , 5 , activation='relu'),\n",
    "    #MaxPooling1D(5),\n",
    "    LSTM(100),\n",
    "    Flatten(),\n",
    "    Dense(VOCAB_SIZE, activation='softmax')\n",
    "])\n",
    "\n",
    "# Set the embedding layer's trainable attribute to False to not fine-tune the embeddings\n",
    "model2.layers[0].trainable = True\n",
    "\n",
    "# Compile the model\n",
    "model2.compile(loss='categorical_crossentropy',\n",
    "              optimizer=Adam(learning_rate=0.01), \n",
    "              metrics=['accuracy'])\n",
    "\n",
    "model2.summary()\n",
    "\n"
   ]
  },
  {
   "cell_type": "code",
   "execution_count": 24,
   "id": "edbe593b",
   "metadata": {},
   "outputs": [
    {
     "name": "stdout",
     "output_type": "stream",
     "text": [
      "Epoch 1/5\n",
      "3834/3834 [==============================] - 535s 138ms/step - loss: 6.6631 - accuracy: 0.0915 - val_loss: 6.3778 - val_accuracy: 0.1018\n",
      "Epoch 2/5\n",
      "3834/3834 [==============================] - 517s 135ms/step - loss: 5.8296 - accuracy: 0.1229 - val_loss: 6.3213 - val_accuracy: 0.1168\n",
      "Epoch 3/5\n",
      "3834/3834 [==============================] - 514s 134ms/step - loss: 5.4203 - accuracy: 0.1378 - val_loss: 6.4761 - val_accuracy: 0.1216\n",
      "Epoch 4/5\n",
      "3834/3834 [==============================] - 519s 135ms/step - loss: 5.1747 - accuracy: 0.1457 - val_loss: 6.7826 - val_accuracy: 0.1185\n",
      "Epoch 5/5\n",
      "3834/3834 [==============================] - 484s 126ms/step - loss: 5.0310 - accuracy: 0.1533 - val_loss: 6.9777 - val_accuracy: 0.1232\n"
     ]
    }
   ],
   "source": [
    "\n",
    "\n",
    "history = model2.fit(X_train, y_train, validation_data=(X_val, y_val), epochs=5, batch_size=32)\n",
    "\n"
   ]
  },
  {
   "cell_type": "code",
   "execution_count": 25,
   "id": "b436e3d6",
   "metadata": {},
   "outputs": [
    {
     "name": "stdout",
     "output_type": "stream",
     "text": [
      "Generated text: hamlet 10 days of that with my dull backward destructive did split and this was but willingly i 52 at his sweet osr no one of ephesus to me pros thou camest at last we am late we tender his father hate all cæsar should the ground his when nothing while this service the last when a flesh of any money i 60 did feel his lord with perdita that weary and the jealous all you think i thus cold and yellow full son sat of a sea and confidence like a villain therefore think for her cousin and his lord\n"
     ]
    }
   ],
   "source": [
    "generated_text  = generate_text(model2, tokenizer, 'hamlet', SEQ_LENGTH)\n",
    "\n",
    "print(\"Generated text:\", generated_text)"
   ]
  },
  {
   "cell_type": "markdown",
   "id": "113766e8",
   "metadata": {},
   "source": [
    "## Criteria\n",
    "\n",
    "|Criteria|Complete|Incomplete|\n",
    "|----|----|----|\n",
    "|Task 1|The task has been completed successfully and there are no errors.|The task is still incomplete and there is at least one error.|\n",
    "|Task 2|The task has been completed successfully and there are no errors.|The task is still incomplete and there is at least one error.|\n",
    "|Task 3|The task has been completed successfully and there are no errors.|The task is still incomplete and there is at least one error.|\n",
    "|Task 4|The task has been completed successfully and there are no errors.|The task is still incomplete and there is at least one error.|"
   ]
  },
  {
   "cell_type": "markdown",
   "id": "b9aaf74e",
   "metadata": {},
   "source": [
    "## Submission Information\n",
    "\n",
    "🚨**Please review our [Assignment Submission Guide](https://github.com/UofT-DSI/onboarding/blob/main/onboarding_documents/submissions.md)**🚨 for detailed instructions on how to format, branch, and submit your work. Following these guidelines is crucial for your submissions to be evaluated correctly.\n",
    "\n",
    "### Submission Parameters:\n",
    "* Submission Due Date: `23:59 PM - 04/08/2024`\n",
    "* The branch name for your repo should be: `assignment-2`\n",
    "* What to submit for this assignment:\n",
    "    * This Jupyter Notebook (assignment_2.ipynb) should be populated and should be the only change in your pull request.\n",
    "* What the pull request link should look like for this assignment: `https://github.com/<your_github_username>/deep_learning/pull/<pr_id>`\n",
    "    * Open a private window in your browser. Copy and paste the link to your pull request into the address bar. Make sure you can see your pull request properly. This helps the technical facilitator and learning support staff review your submission easily.\n",
    "\n",
    "Checklist:\n",
    "- [X] Created a branch with the correct naming convention.\n",
    "- [X] Ensured that the repository is public.\n",
    "- [X] Reviewed the PR description guidelines and adhered to them.\n",
    "- [X] Verify that the link is accessible in a private browser window.\n",
    "\n",
    "If you encounter any difficulties or have questions, please don't hesitate to reach out to our team via our Slack at `#cohort-3-help`. Our Technical Facilitators and Learning Support staff are here to help you navigate any challenges."
   ]
  }
 ],
 "metadata": {
  "accelerator": "GPU",
  "colab": {
   "gpuType": "T4",
   "provenance": []
  },
  "kernelspec": {
   "display_name": "Python 3 (ipykernel)",
   "language": "python",
   "name": "python3"
  },
  "language_info": {
   "codemirror_mode": {
    "name": "ipython",
    "version": 3
   },
   "file_extension": ".py",
   "mimetype": "text/x-python",
   "name": "python",
   "nbconvert_exporter": "python",
   "pygments_lexer": "ipython3",
   "version": "3.9.15"
  }
 },
 "nbformat": 4,
 "nbformat_minor": 5
}
